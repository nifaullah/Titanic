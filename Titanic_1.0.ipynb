{
 "cells": [
  {
   "cell_type": "markdown",
   "metadata": {},
   "source": [
    "# Titanic Prediction of Survivors using ML Algorithms"
   ]
  },
  {
   "cell_type": "code",
   "execution_count": 1,
   "metadata": {},
   "outputs": [],
   "source": [
    "import pandas as pd\n",
    "import numpy as np\n",
    "import matplotlib.pyplot as plt\n",
    "import seaborn as sns\n",
    "#Classification Algorithms\n",
    "from sklearn.model_selection import cross_val_score\n",
    "from sklearn.tree import DecisionTreeClassifier\n",
    "from sklearn.neighbors import KNeighborsClassifier\n",
    "from sklearn.naive_bayes import GaussianNB\n",
    "from sklearn.svm import SVC\n",
    "from sklearn.neighbors import KNeighborsClassifier\n",
    "from sklearn.linear_model import LogisticRegression\n",
    "from sklearn.ensemble import RandomForestClassifier\n",
    "from sklearn.ensemble import AdaBoostClassifier\n",
    "from sklearn.linear_model import Perceptron"
   ]
  },
  {
   "cell_type": "markdown",
   "metadata": {},
   "source": [
    "# 1. Exploratory Data Analysis"
   ]
  },
  {
   "cell_type": "markdown",
   "metadata": {},
   "source": [
    "Loading the train and test dataset from local"
   ]
  },
  {
   "cell_type": "code",
   "execution_count": 2,
   "metadata": {},
   "outputs": [],
   "source": [
    "Train_df = pd.read_csv(\"C:/Users/nifaullah/Downloads/msba/WinBreak/Titanic/Train.csv\")"
   ]
  },
  {
   "cell_type": "code",
   "execution_count": 3,
   "metadata": {},
   "outputs": [],
   "source": [
    "Test_df = pd.read_csv(\"C:/Users/nifaullah/Downloads/msba/WinBreak/Titanic/Test.csv\")"
   ]
  },
  {
   "cell_type": "markdown",
   "metadata": {},
   "source": [
    "# 1.1 Data"
   ]
  },
  {
   "cell_type": "markdown",
   "metadata": {},
   "source": [
    "As we can see from the data we've a training set with 891 observations and 12 features and a test set with 418 observations and 11 features"
   ]
  },
  {
   "cell_type": "code",
   "execution_count": 4,
   "metadata": {},
   "outputs": [
    {
     "data": {
      "text/plain": [
       "(891, 12)"
      ]
     },
     "execution_count": 4,
     "metadata": {},
     "output_type": "execute_result"
    }
   ],
   "source": [
    "Train_df.shape"
   ]
  },
  {
   "cell_type": "code",
   "execution_count": 5,
   "metadata": {
    "scrolled": true
   },
   "outputs": [
    {
     "data": {
      "text/plain": [
       "(418, 11)"
      ]
     },
     "execution_count": 5,
     "metadata": {},
     "output_type": "execute_result"
    }
   ],
   "source": [
    "Test_df.shape"
   ]
  },
  {
   "cell_type": "markdown",
   "metadata": {},
   "source": [
    "Now let's take a look at the column names to check if the columns are same in train and test set and that the Survived column  is missing in the test set. As we can see from below all columns are as expected."
   ]
  },
  {
   "cell_type": "code",
   "execution_count": 6,
   "metadata": {},
   "outputs": [
    {
     "data": {
      "text/plain": [
       "Index(['PassengerId', 'Survived', 'Pclass', 'Name', 'Sex', 'Age', 'SibSp',\n",
       "       'Parch', 'Ticket', 'Fare', 'Cabin', 'Embarked'],\n",
       "      dtype='object')"
      ]
     },
     "execution_count": 6,
     "metadata": {},
     "output_type": "execute_result"
    }
   ],
   "source": [
    "Train_df.columns"
   ]
  },
  {
   "cell_type": "code",
   "execution_count": 7,
   "metadata": {},
   "outputs": [
    {
     "data": {
      "text/plain": [
       "Index(['PassengerId', 'Pclass', 'Name', 'Sex', 'Age', 'SibSp', 'Parch',\n",
       "       'Ticket', 'Fare', 'Cabin', 'Embarked'],\n",
       "      dtype='object')"
      ]
     },
     "execution_count": 7,
     "metadata": {},
     "output_type": "execute_result"
    }
   ],
   "source": [
    "Test_df.columns"
   ]
  },
  {
   "cell_type": "markdown",
   "metadata": {},
   "source": [
    "Now let's take a look at the train set info if we've any missing values.\n",
    "\n",
    "It seems that all columns except Age, Cabin and Embarked seem to have all values in order.\n",
    "\n",
    "Age seems to be missing 177 values, on an initial level it seems imprudent to drop Age column, we need further analysis to assert it confidently\n",
    "\n",
    "Cabin is missing around 690, which is more than 80% of the totatl data. On intuition, it seems to better to drop this but we need further ananlysis before we decide.\n",
    "\n",
    "Embarked is also missing 2 values, This is minimal and we can move forward by assigning the Mode to these missing values"
   ]
  },
  {
   "cell_type": "code",
   "execution_count": 8,
   "metadata": {
    "scrolled": true
   },
   "outputs": [
    {
     "name": "stdout",
     "output_type": "stream",
     "text": [
      "<class 'pandas.core.frame.DataFrame'>\n",
      "RangeIndex: 891 entries, 0 to 890\n",
      "Data columns (total 12 columns):\n",
      "PassengerId    891 non-null int64\n",
      "Survived       891 non-null int64\n",
      "Pclass         891 non-null int64\n",
      "Name           891 non-null object\n",
      "Sex            891 non-null object\n",
      "Age            714 non-null float64\n",
      "SibSp          891 non-null int64\n",
      "Parch          891 non-null int64\n",
      "Ticket         891 non-null object\n",
      "Fare           891 non-null float64\n",
      "Cabin          204 non-null object\n",
      "Embarked       889 non-null object\n",
      "dtypes: float64(2), int64(5), object(5)\n",
      "memory usage: 83.6+ KB\n"
     ]
    }
   ],
   "source": [
    "Train_df.info()"
   ]
  },
  {
   "cell_type": "markdown",
   "metadata": {},
   "source": [
    "Test dataset also has missing values for Age and Cabin.\n",
    "\n",
    "Most likely we'll do the  same treatment here we do to the train set missing values."
   ]
  },
  {
   "cell_type": "code",
   "execution_count": 9,
   "metadata": {},
   "outputs": [
    {
     "name": "stdout",
     "output_type": "stream",
     "text": [
      "<class 'pandas.core.frame.DataFrame'>\n",
      "RangeIndex: 418 entries, 0 to 417\n",
      "Data columns (total 11 columns):\n",
      "PassengerId    418 non-null int64\n",
      "Pclass         418 non-null int64\n",
      "Name           418 non-null object\n",
      "Sex            418 non-null object\n",
      "Age            332 non-null float64\n",
      "SibSp          418 non-null int64\n",
      "Parch          418 non-null int64\n",
      "Ticket         418 non-null object\n",
      "Fare           417 non-null float64\n",
      "Cabin          91 non-null object\n",
      "Embarked       418 non-null object\n",
      "dtypes: float64(2), int64(4), object(5)\n",
      "memory usage: 36.0+ KB\n"
     ]
    }
   ],
   "source": [
    "Test_df.info()"
   ]
  },
  {
   "cell_type": "markdown",
   "metadata": {},
   "source": [
    "Passenger Id: As expected this a unique value column to uniquely identify each passenger. This will not help much in our analysis.\n",
    "\n",
    "Name: 891 different values, again not so helpful for our analysis\n",
    "\n",
    "Survived, Pclass, Sex and Embarked : Categorical Variables with  2/3 categories\n",
    "\n",
    "Also Fare with 248 unique values suggest that probably the fares were not same even if passengers belonged to same class\n",
    "\n",
    "Ticket has 681 unique but no null values immplicitly suggest that probably some ticket had same number, may be passenger who had families bought tickets together for entire family. But we need to do further analysis before we decide it."
   ]
  },
  {
   "cell_type": "code",
   "execution_count": 10,
   "metadata": {
    "scrolled": true
   },
   "outputs": [
    {
     "data": {
      "text/plain": [
       "PassengerId    891\n",
       "Survived         2\n",
       "Pclass           3\n",
       "Name           891\n",
       "Sex              2\n",
       "Age             88\n",
       "SibSp            7\n",
       "Parch            7\n",
       "Ticket         681\n",
       "Fare           248\n",
       "Cabin          147\n",
       "Embarked         3\n",
       "dtype: int64"
      ]
     },
     "execution_count": 10,
     "metadata": {},
     "output_type": "execute_result"
    }
   ],
   "source": [
    "Train_df.nunique()"
   ]
  },
  {
   "cell_type": "markdown",
   "metadata": {},
   "source": [
    "Proportionately, Nothing out of place here except that Parch (Parent/Child on board) has one more unique value."
   ]
  },
  {
   "cell_type": "code",
   "execution_count": 11,
   "metadata": {
    "scrolled": true
   },
   "outputs": [
    {
     "data": {
      "text/plain": [
       "PassengerId    418\n",
       "Pclass           3\n",
       "Name           418\n",
       "Sex              2\n",
       "Age             79\n",
       "SibSp            7\n",
       "Parch            8\n",
       "Ticket         363\n",
       "Fare           169\n",
       "Cabin           76\n",
       "Embarked         3\n",
       "dtype: int64"
      ]
     },
     "execution_count": 11,
     "metadata": {},
     "output_type": "execute_result"
    }
   ],
   "source": [
    "Test_df.nunique()"
   ]
  },
  {
   "cell_type": "markdown",
   "metadata": {},
   "source": [
    "# 1.2 Descriptive Statistics"
   ]
  },
  {
   "cell_type": "markdown",
   "metadata": {},
   "source": [
    "Survived: A mean of 0.38 suggests that our datset has slightly more values of not survied when compared with survived.\n",
    "\n",
    "Pclass: Clearly number of passengers in 3rd class were greater than number of passengers in 1st and 2nd class.\n",
    "\n",
    "Sibsp, Parch: Close to 25 %  of passengers have a sibling on board but isn't as same as that of Parent Child, again on an initial level it seems families onboard mostly had more than one child."
   ]
  },
  {
   "cell_type": "code",
   "execution_count": 12,
   "metadata": {
    "scrolled": true
   },
   "outputs": [
    {
     "data": {
      "text/html": [
       "<div>\n",
       "<style scoped>\n",
       "    .dataframe tbody tr th:only-of-type {\n",
       "        vertical-align: middle;\n",
       "    }\n",
       "\n",
       "    .dataframe tbody tr th {\n",
       "        vertical-align: top;\n",
       "    }\n",
       "\n",
       "    .dataframe thead th {\n",
       "        text-align: right;\n",
       "    }\n",
       "</style>\n",
       "<table border=\"1\" class=\"dataframe\">\n",
       "  <thead>\n",
       "    <tr style=\"text-align: right;\">\n",
       "      <th></th>\n",
       "      <th>count</th>\n",
       "      <th>mean</th>\n",
       "      <th>std</th>\n",
       "      <th>min</th>\n",
       "      <th>25%</th>\n",
       "      <th>50%</th>\n",
       "      <th>75%</th>\n",
       "      <th>max</th>\n",
       "    </tr>\n",
       "  </thead>\n",
       "  <tbody>\n",
       "    <tr>\n",
       "      <th>PassengerId</th>\n",
       "      <td>891.0</td>\n",
       "      <td>446.000000</td>\n",
       "      <td>257.353842</td>\n",
       "      <td>1.00</td>\n",
       "      <td>223.5000</td>\n",
       "      <td>446.0000</td>\n",
       "      <td>668.5</td>\n",
       "      <td>891.0000</td>\n",
       "    </tr>\n",
       "    <tr>\n",
       "      <th>Survived</th>\n",
       "      <td>891.0</td>\n",
       "      <td>0.383838</td>\n",
       "      <td>0.486592</td>\n",
       "      <td>0.00</td>\n",
       "      <td>0.0000</td>\n",
       "      <td>0.0000</td>\n",
       "      <td>1.0</td>\n",
       "      <td>1.0000</td>\n",
       "    </tr>\n",
       "    <tr>\n",
       "      <th>Pclass</th>\n",
       "      <td>891.0</td>\n",
       "      <td>2.308642</td>\n",
       "      <td>0.836071</td>\n",
       "      <td>1.00</td>\n",
       "      <td>2.0000</td>\n",
       "      <td>3.0000</td>\n",
       "      <td>3.0</td>\n",
       "      <td>3.0000</td>\n",
       "    </tr>\n",
       "    <tr>\n",
       "      <th>Age</th>\n",
       "      <td>714.0</td>\n",
       "      <td>29.699118</td>\n",
       "      <td>14.526497</td>\n",
       "      <td>0.42</td>\n",
       "      <td>20.1250</td>\n",
       "      <td>28.0000</td>\n",
       "      <td>38.0</td>\n",
       "      <td>80.0000</td>\n",
       "    </tr>\n",
       "    <tr>\n",
       "      <th>SibSp</th>\n",
       "      <td>891.0</td>\n",
       "      <td>0.523008</td>\n",
       "      <td>1.102743</td>\n",
       "      <td>0.00</td>\n",
       "      <td>0.0000</td>\n",
       "      <td>0.0000</td>\n",
       "      <td>1.0</td>\n",
       "      <td>8.0000</td>\n",
       "    </tr>\n",
       "    <tr>\n",
       "      <th>Parch</th>\n",
       "      <td>891.0</td>\n",
       "      <td>0.381594</td>\n",
       "      <td>0.806057</td>\n",
       "      <td>0.00</td>\n",
       "      <td>0.0000</td>\n",
       "      <td>0.0000</td>\n",
       "      <td>0.0</td>\n",
       "      <td>6.0000</td>\n",
       "    </tr>\n",
       "    <tr>\n",
       "      <th>Fare</th>\n",
       "      <td>891.0</td>\n",
       "      <td>32.204208</td>\n",
       "      <td>49.693429</td>\n",
       "      <td>0.00</td>\n",
       "      <td>7.9104</td>\n",
       "      <td>14.4542</td>\n",
       "      <td>31.0</td>\n",
       "      <td>512.3292</td>\n",
       "    </tr>\n",
       "  </tbody>\n",
       "</table>\n",
       "</div>"
      ],
      "text/plain": [
       "             count        mean         std   min       25%       50%    75%  \\\n",
       "PassengerId  891.0  446.000000  257.353842  1.00  223.5000  446.0000  668.5   \n",
       "Survived     891.0    0.383838    0.486592  0.00    0.0000    0.0000    1.0   \n",
       "Pclass       891.0    2.308642    0.836071  1.00    2.0000    3.0000    3.0   \n",
       "Age          714.0   29.699118   14.526497  0.42   20.1250   28.0000   38.0   \n",
       "SibSp        891.0    0.523008    1.102743  0.00    0.0000    0.0000    1.0   \n",
       "Parch        891.0    0.381594    0.806057  0.00    0.0000    0.0000    0.0   \n",
       "Fare         891.0   32.204208   49.693429  0.00    7.9104   14.4542   31.0   \n",
       "\n",
       "                  max  \n",
       "PassengerId  891.0000  \n",
       "Survived       1.0000  \n",
       "Pclass         3.0000  \n",
       "Age           80.0000  \n",
       "SibSp          8.0000  \n",
       "Parch          6.0000  \n",
       "Fare         512.3292  "
      ]
     },
     "execution_count": 12,
     "metadata": {},
     "output_type": "execute_result"
    }
   ],
   "source": [
    "Train_df.describe().T"
   ]
  },
  {
   "cell_type": "markdown",
   "metadata": {},
   "source": [
    "Most if not all columns match closely with the training set which means our training set is possibly well represented to cover for the training test"
   ]
  },
  {
   "cell_type": "code",
   "execution_count": 13,
   "metadata": {},
   "outputs": [
    {
     "data": {
      "text/html": [
       "<div>\n",
       "<style scoped>\n",
       "    .dataframe tbody tr th:only-of-type {\n",
       "        vertical-align: middle;\n",
       "    }\n",
       "\n",
       "    .dataframe tbody tr th {\n",
       "        vertical-align: top;\n",
       "    }\n",
       "\n",
       "    .dataframe thead th {\n",
       "        text-align: right;\n",
       "    }\n",
       "</style>\n",
       "<table border=\"1\" class=\"dataframe\">\n",
       "  <thead>\n",
       "    <tr style=\"text-align: right;\">\n",
       "      <th></th>\n",
       "      <th>count</th>\n",
       "      <th>mean</th>\n",
       "      <th>std</th>\n",
       "      <th>min</th>\n",
       "      <th>25%</th>\n",
       "      <th>50%</th>\n",
       "      <th>75%</th>\n",
       "      <th>max</th>\n",
       "    </tr>\n",
       "  </thead>\n",
       "  <tbody>\n",
       "    <tr>\n",
       "      <th>PassengerId</th>\n",
       "      <td>418.0</td>\n",
       "      <td>1100.500000</td>\n",
       "      <td>120.810458</td>\n",
       "      <td>892.00</td>\n",
       "      <td>996.2500</td>\n",
       "      <td>1100.5000</td>\n",
       "      <td>1204.75</td>\n",
       "      <td>1309.0000</td>\n",
       "    </tr>\n",
       "    <tr>\n",
       "      <th>Pclass</th>\n",
       "      <td>418.0</td>\n",
       "      <td>2.265550</td>\n",
       "      <td>0.841838</td>\n",
       "      <td>1.00</td>\n",
       "      <td>1.0000</td>\n",
       "      <td>3.0000</td>\n",
       "      <td>3.00</td>\n",
       "      <td>3.0000</td>\n",
       "    </tr>\n",
       "    <tr>\n",
       "      <th>Age</th>\n",
       "      <td>332.0</td>\n",
       "      <td>30.272590</td>\n",
       "      <td>14.181209</td>\n",
       "      <td>0.17</td>\n",
       "      <td>21.0000</td>\n",
       "      <td>27.0000</td>\n",
       "      <td>39.00</td>\n",
       "      <td>76.0000</td>\n",
       "    </tr>\n",
       "    <tr>\n",
       "      <th>SibSp</th>\n",
       "      <td>418.0</td>\n",
       "      <td>0.447368</td>\n",
       "      <td>0.896760</td>\n",
       "      <td>0.00</td>\n",
       "      <td>0.0000</td>\n",
       "      <td>0.0000</td>\n",
       "      <td>1.00</td>\n",
       "      <td>8.0000</td>\n",
       "    </tr>\n",
       "    <tr>\n",
       "      <th>Parch</th>\n",
       "      <td>418.0</td>\n",
       "      <td>0.392344</td>\n",
       "      <td>0.981429</td>\n",
       "      <td>0.00</td>\n",
       "      <td>0.0000</td>\n",
       "      <td>0.0000</td>\n",
       "      <td>0.00</td>\n",
       "      <td>9.0000</td>\n",
       "    </tr>\n",
       "    <tr>\n",
       "      <th>Fare</th>\n",
       "      <td>417.0</td>\n",
       "      <td>35.627188</td>\n",
       "      <td>55.907576</td>\n",
       "      <td>0.00</td>\n",
       "      <td>7.8958</td>\n",
       "      <td>14.4542</td>\n",
       "      <td>31.50</td>\n",
       "      <td>512.3292</td>\n",
       "    </tr>\n",
       "  </tbody>\n",
       "</table>\n",
       "</div>"
      ],
      "text/plain": [
       "             count         mean         std     min       25%        50%  \\\n",
       "PassengerId  418.0  1100.500000  120.810458  892.00  996.2500  1100.5000   \n",
       "Pclass       418.0     2.265550    0.841838    1.00    1.0000     3.0000   \n",
       "Age          332.0    30.272590   14.181209    0.17   21.0000    27.0000   \n",
       "SibSp        418.0     0.447368    0.896760    0.00    0.0000     0.0000   \n",
       "Parch        418.0     0.392344    0.981429    0.00    0.0000     0.0000   \n",
       "Fare         417.0    35.627188   55.907576    0.00    7.8958    14.4542   \n",
       "\n",
       "                 75%        max  \n",
       "PassengerId  1204.75  1309.0000  \n",
       "Pclass          3.00     3.0000  \n",
       "Age            39.00    76.0000  \n",
       "SibSp           1.00     8.0000  \n",
       "Parch           0.00     9.0000  \n",
       "Fare           31.50   512.3292  "
      ]
     },
     "execution_count": 13,
     "metadata": {},
     "output_type": "execute_result"
    }
   ],
   "source": [
    "Test_df.describe().T"
   ]
  },
  {
   "cell_type": "markdown",
   "metadata": {},
   "source": [
    "# 1.3 Feature Analysis & Data Wrangling"
   ]
  },
  {
   "cell_type": "markdown",
   "metadata": {},
   "source": [
    "# 1.3.1 Correlation Matrix and Pairplot"
   ]
  },
  {
   "cell_type": "markdown",
   "metadata": {},
   "source": [
    "As expected Class has a very high and positive correlation with survived.\n",
    "\n",
    "However negative correlation of Age with class discounting the number factor suggest that Class 3 had more young passengers.\n",
    "\n",
    "Any analysis without gender is incomplete considering that it may play a important role in our model."
   ]
  },
  {
   "cell_type": "code",
   "execution_count": 14,
   "metadata": {
    "scrolled": true
   },
   "outputs": [
    {
     "data": {
      "text/plain": [
       "PassengerId   -0.005007\n",
       "Survived       1.000000\n",
       "Pclass        -0.338481\n",
       "Age           -0.077221\n",
       "SibSp         -0.035322\n",
       "Parch          0.081629\n",
       "Fare           0.257307\n",
       "Name: Survived, dtype: float64"
      ]
     },
     "execution_count": 14,
     "metadata": {},
     "output_type": "execute_result"
    }
   ],
   "source": [
    "Train_df.corr().iloc[1,:]"
   ]
  },
  {
   "cell_type": "markdown",
   "metadata": {},
   "source": [
    "Pairplot below reconfirms above analysis however Parch seems to be showing somewhat significant difference in the distribution for both groups. We'll do further analysis to check if that's the case"
   ]
  },
  {
   "cell_type": "code",
   "execution_count": 15,
   "metadata": {},
   "outputs": [
    {
     "name": "stderr",
     "output_type": "stream",
     "text": [
      "C:\\Users\\nifaullah\\Anaconda3\\lib\\site-packages\\statsmodels\\nonparametric\\kde.py:488: RuntimeWarning: invalid value encountered in true_divide\n",
      "  binned = fast_linbin(X, a, b, gridsize) / (delta * nobs)\n",
      "C:\\Users\\nifaullah\\Anaconda3\\lib\\site-packages\\statsmodels\\nonparametric\\kdetools.py:34: RuntimeWarning: invalid value encountered in double_scalars\n",
      "  FAC1 = 2*(np.pi*bw/RANGE)**2\n",
      "C:\\Users\\nifaullah\\Anaconda3\\lib\\site-packages\\statsmodels\\nonparametric\\kde.py:448: RuntimeWarning: invalid value encountered in greater\n",
      "  X = X[np.logical_and(X > clip[0], X < clip[1])] # won't work for two columns.\n",
      "C:\\Users\\nifaullah\\Anaconda3\\lib\\site-packages\\statsmodels\\nonparametric\\kde.py:448: RuntimeWarning: invalid value encountered in less\n",
      "  X = X[np.logical_and(X > clip[0], X < clip[1])] # won't work for two columns.\n"
     ]
    },
    {
     "data": {
      "text/plain": [
       "<seaborn.axisgrid.PairGrid at 0x22adec6e240>"
      ]
     },
     "execution_count": 15,
     "metadata": {},
     "output_type": "execute_result"
    },
    {
     "data": {
      "image/png": "[encoded data removed]",
      "text/plain": [
       "<Figure size 1311.88x1260 with 56 Axes>"
      ]
     },
     "metadata": {
      "needs_background": "light"
     },
     "output_type": "display_data"
    }
   ],
   "source": [
    "sns.pairplot(Train_df, hue = 'Survived')"
   ]
  },
  {
   "cell_type": "markdown",
   "metadata": {},
   "source": [
    "# 1.3.2 Feature Analysis - Pclass (Passenger Class)"
   ]
  },
  {
   "cell_type": "markdown",
   "metadata": {},
   "source": [
    "From the below classwise distribution it seems likely the proportion of survivors in class 1 is high compared to class 2 which is higher than class 3. \n",
    "\n",
    "Class seems to be very good feature for our model, as there's a substantial divide between survivors & non-survivors for differnt classes."
   ]
  },
  {
   "cell_type": "code",
   "execution_count": 16,
   "metadata": {
    "scrolled": false
   },
   "outputs": [
    {
     "data": {
      "text/plain": [
       "<matplotlib.axes._subplots.AxesSubplot at 0x22ae1cdd358>"
      ]
     },
     "execution_count": 16,
     "metadata": {},
     "output_type": "execute_result"
    },
    {
     "data": {
      "image/png": "[encoded data removed]",
      "text/plain": [
       "<Figure size 432x288 with 1 Axes>"
      ]
     },
     "metadata": {
      "needs_background": "light"
     },
     "output_type": "display_data"
    }
   ],
   "source": [
    "sns.distplot(Train_df[Train_df.Survived == 0]['Pclass'], color = 'red')\n",
    "sns.distplot(Train_df[Train_df.Survived == 1]['Pclass'], color = 'blue')"
   ]
  },
  {
   "cell_type": "markdown",
   "metadata": {},
   "source": [
    "Classwise frequency distribution of survivors and non-survivors reiterates the importance of class as to if a passenger is saved or not"
   ]
  },
  {
   "cell_type": "code",
   "execution_count": 17,
   "metadata": {
    "scrolled": false
   },
   "outputs": [
    {
     "data": {
      "text/plain": [
       "<matplotlib.axes._subplots.AxesSubplot at 0x22ae2430d68>"
      ]
     },
     "execution_count": 17,
     "metadata": {},
     "output_type": "execute_result"
    },
    {
     "data": {
      "image/png": "[encoded data removed]",
      "text/plain": [
       "<Figure size 432x288 with 1 Axes>"
      ]
     },
     "metadata": {
      "needs_background": "light"
     },
     "output_type": "display_data"
    }
   ],
   "source": [
    "sns.countplot(x='Pclass', hue = 'Survived', data = Train_df)"
   ]
  },
  {
   "cell_type": "markdown",
   "metadata": {},
   "source": [
    "# 1.3.3 Feature Analysis - Sex"
   ]
  },
  {
   "cell_type": "markdown",
   "metadata": {},
   "source": [
    "Below gender wise separation of survivors and non-survivors shows a significant separation. Proportionately it's clear that more woman were saved comapred to men irrespective of class. This may be due to old and faulty notion that Women either were  more weaker or more innocent comapred to men (who assume themselves to be saviour because of ubiquitious patriachy at that time). However it's clear that females had higher chance of survival comapred to males, hence Sex is a very important feature for our model, but we need to binary encode the column before we use it in the model as most classifier deal with only numerical values."
   ]
  },
  {
   "cell_type": "code",
   "execution_count": 18,
   "metadata": {
    "scrolled": true
   },
   "outputs": [
    {
     "data": {
      "text/plain": [
       "<matplotlib.axes._subplots.AxesSubplot at 0x22ae2477978>"
      ]
     },
     "execution_count": 18,
     "metadata": {},
     "output_type": "execute_result"
    },
    {
     "data": {
      "image/png": "[encoded data removed]",
      "text/plain": [
       "<Figure size 432x288 with 1 Axes>"
      ]
     },
     "metadata": {
      "needs_background": "light"
     },
     "output_type": "display_data"
    }
   ],
   "source": [
    "sns.countplot(x='Sex', hue = 'Survived', data = Train_df)"
   ]
  },
  {
   "cell_type": "markdown",
   "metadata": {},
   "source": [
    "Below crosstab quantifies above point. Females across all classes had a survival rate of close to <b>65%</b>, whereas male had a very low survival rate of <b>19%</b>."
   ]
  },
  {
   "cell_type": "code",
   "execution_count": 19,
   "metadata": {},
   "outputs": [
    {
     "data": {
      "text/html": [
       "<div>\n",
       "<style scoped>\n",
       "    .dataframe tbody tr th:only-of-type {\n",
       "        vertical-align: middle;\n",
       "    }\n",
       "\n",
       "    .dataframe tbody tr th {\n",
       "        vertical-align: top;\n",
       "    }\n",
       "\n",
       "    .dataframe thead th {\n",
       "        text-align: right;\n",
       "    }\n",
       "</style>\n",
       "<table border=\"1\" class=\"dataframe\">\n",
       "  <thead>\n",
       "    <tr style=\"text-align: right;\">\n",
       "      <th>col_0</th>\n",
       "      <th>0</th>\n",
       "      <th>1</th>\n",
       "      <th>All</th>\n",
       "    </tr>\n",
       "    <tr>\n",
       "      <th>row_0</th>\n",
       "      <th></th>\n",
       "      <th></th>\n",
       "      <th></th>\n",
       "    </tr>\n",
       "  </thead>\n",
       "  <tbody>\n",
       "    <tr>\n",
       "      <th>female</th>\n",
       "      <td>81</td>\n",
       "      <td>233</td>\n",
       "      <td>314</td>\n",
       "    </tr>\n",
       "    <tr>\n",
       "      <th>male</th>\n",
       "      <td>468</td>\n",
       "      <td>109</td>\n",
       "      <td>577</td>\n",
       "    </tr>\n",
       "    <tr>\n",
       "      <th>All</th>\n",
       "      <td>549</td>\n",
       "      <td>342</td>\n",
       "      <td>891</td>\n",
       "    </tr>\n",
       "  </tbody>\n",
       "</table>\n",
       "</div>"
      ],
      "text/plain": [
       "col_0     0    1  All\n",
       "row_0                \n",
       "female   81  233  314\n",
       "male    468  109  577\n",
       "All     549  342  891"
      ]
     },
     "execution_count": 19,
     "metadata": {},
     "output_type": "execute_result"
    }
   ],
   "source": [
    "pd.crosstab(pd.Categorical(Train_df.Sex), pd.Categorical(Train_df.Survived), margins = True)"
   ]
  },
  {
   "cell_type": "markdown",
   "metadata": {},
   "source": [
    "Now let's see if class had any effect on which female survived.\n",
    "\n",
    "As expected, proportionately females from class 1 and class 2 have a near perfect survival rate, whereas Women from 3rd class had a survival rate of 50%. "
   ]
  },
  {
   "cell_type": "code",
   "execution_count": 20,
   "metadata": {
    "scrolled": false
   },
   "outputs": [
    {
     "data": {
      "text/plain": [
       "<matplotlib.axes._subplots.AxesSubplot at 0x22ae2533ac8>"
      ]
     },
     "execution_count": 20,
     "metadata": {},
     "output_type": "execute_result"
    },
    {
     "data": {
      "image/png": "[encoded data removed]",
      "text/plain": [
       "<Figure size 432x288 with 1 Axes>"
      ]
     },
     "metadata": {
      "needs_background": "light"
     },
     "output_type": "display_data"
    }
   ],
   "source": [
    "sns.countplot('Pclass', hue = 'Survived', data = Train_df[(Train_df.Sex == 'female')])"
   ]
  },
  {
   "cell_type": "markdown",
   "metadata": {},
   "source": [
    "As expected, survival rate decreased with decrease in level of class. Again reiterating the notion that people with money, influence and power naturally survived more because of the aforementioned factors."
   ]
  },
  {
   "cell_type": "code",
   "execution_count": 21,
   "metadata": {
    "scrolled": true
   },
   "outputs": [
    {
     "data": {
      "text/plain": [
       "<matplotlib.axes._subplots.AxesSubplot at 0x22ae2578ba8>"
      ]
     },
     "execution_count": 21,
     "metadata": {},
     "output_type": "execute_result"
    },
    {
     "data": {
      "image/png": "[encoded data removed]",
      "text/plain": [
       "<Figure size 432x288 with 1 Axes>"
      ]
     },
     "metadata": {
      "needs_background": "light"
     },
     "output_type": "display_data"
    }
   ],
   "source": [
    "sns.countplot('Pclass', hue = 'Survived', data = Train_df[(Train_df.Sex == 'male')])"
   ]
  },
  {
   "cell_type": "markdown",
   "metadata": {},
   "source": [
    "# 1.3.4 Feature Analysis - Blood Relatives: SibSp (Siblings) & Parch (Parent-Child)"
   ]
  },
  {
   "cell_type": "markdown",
   "metadata": {},
   "source": [
    "We've 2 columns which tells us that if a passenger had any blood relatives on the ship. First let us see if an increase in relatives means a higher chance at survival"
   ]
  },
  {
   "cell_type": "markdown",
   "metadata": {},
   "source": [
    "If we disregard the smaller values for high siblings and parent child relationships, generally it seems passengers with blood relatives on board have higher chance of survival."
   ]
  },
  {
   "cell_type": "code",
   "execution_count": 22,
   "metadata": {},
   "outputs": [
    {
     "data": {
      "text/plain": [
       "<matplotlib.axes._subplots.AxesSubplot at 0x22ae25e1c50>"
      ]
     },
     "execution_count": 22,
     "metadata": {},
     "output_type": "execute_result"
    },
    {
     "data": {
      "image/png": "[encoded data removed]",
      "text/plain": [
       "<Figure size 432x288 with 1 Axes>"
      ]
     },
     "metadata": {
      "needs_background": "light"
     },
     "output_type": "display_data"
    }
   ],
   "source": [
    "sns.countplot(x='Parch', hue='Survived', data=Train_df)"
   ]
  },
  {
   "cell_type": "code",
   "execution_count": 23,
   "metadata": {},
   "outputs": [
    {
     "data": {
      "text/plain": [
       "<matplotlib.axes._subplots.AxesSubplot at 0x22ae24e4b38>"
      ]
     },
     "execution_count": 23,
     "metadata": {},
     "output_type": "execute_result"
    },
    {
     "data": {
      "image/png": "[encoded data removed]",
      "text/plain": [
       "<Figure size 432x288 with 1 Axes>"
      ]
     },
     "metadata": {
      "needs_background": "light"
     },
     "output_type": "display_data"
    }
   ],
   "source": [
    "sns.countplot(x='SibSp', hue='Survived', data=Train_df)"
   ]
  },
  {
   "cell_type": "markdown",
   "metadata": {},
   "source": [
    "It makes sense to combine both this column into one binary columns as 'BloodRelative', however we're not yet dropping the original columns as it may aid in discovery of missing values for Age and Cabin."
   ]
  },
  {
   "cell_type": "code",
   "execution_count": 24,
   "metadata": {},
   "outputs": [],
   "source": [
    "def get_relative(row):\n",
    "    return int((row['SibSp'] > 0) | (row['Parch'] > 0))\n",
    "Train_df['BloodRelative'] = Train_df[['SibSp', 'Parch']].apply(get_relative, axis=1)\n",
    "Test_df['BloodRelative'] = Test_df[['SibSp', 'Parch']].apply(get_relative, axis=1)"
   ]
  },
  {
   "cell_type": "markdown",
   "metadata": {},
   "source": [
    "Again reiterating the notion that Passenger with relatives had higher chance of survival"
   ]
  },
  {
   "cell_type": "code",
   "execution_count": 25,
   "metadata": {
    "scrolled": false
   },
   "outputs": [
    {
     "data": {
      "text/plain": [
       "<matplotlib.axes._subplots.AxesSubplot at 0x22adebce358>"
      ]
     },
     "execution_count": 25,
     "metadata": {},
     "output_type": "execute_result"
    },
    {
     "data": {
      "image/png": "[encoded data removed]",
      "text/plain": [
       "<Figure size 432x288 with 1 Axes>"
      ]
     },
     "metadata": {
      "needs_background": "light"
     },
     "output_type": "display_data"
    }
   ],
   "source": [
    "sns.countplot(x='BloodRelative', hue='Survived', data=Train_df)"
   ]
  },
  {
   "cell_type": "markdown",
   "metadata": {},
   "source": [
    "Class 3 had higher proportion of passengers with no relatives, may be these were the people who didn't survive, we need further analysis before we can confirm this."
   ]
  },
  {
   "cell_type": "code",
   "execution_count": 26,
   "metadata": {
    "scrolled": true
   },
   "outputs": [
    {
     "data": {
      "text/plain": [
       "<matplotlib.axes._subplots.AxesSubplot at 0x22ae272e828>"
      ]
     },
     "execution_count": 26,
     "metadata": {},
     "output_type": "execute_result"
    },
    {
     "data": {
      "image/png": "[encoded data removed]",
      "text/plain": [
       "<Figure size 432x288 with 1 Axes>"
      ]
     },
     "metadata": {
      "needs_background": "light"
     },
     "output_type": "display_data"
    }
   ],
   "source": [
    "sns.countplot(x='BloodRelative', hue='Pclass', data=Train_df)"
   ]
  },
  {
   "cell_type": "markdown",
   "metadata": {},
   "source": [
    "Passegers of class 3 with blood relatives definitely had a higher survival rate compared to passengers with no relatives. Let's  check if same is true for other classes"
   ]
  },
  {
   "cell_type": "code",
   "execution_count": 27,
   "metadata": {},
   "outputs": [
    {
     "data": {
      "text/plain": [
       "<matplotlib.axes._subplots.AxesSubplot at 0x22ae27735f8>"
      ]
     },
     "execution_count": 27,
     "metadata": {},
     "output_type": "execute_result"
    },
    {
     "data": {
      "image/png": "[encoded data removed]",
      "text/plain": [
       "<Figure size 432x288 with 1 Axes>"
      ]
     },
     "metadata": {
      "needs_background": "light"
     },
     "output_type": "display_data"
    }
   ],
   "source": [
    "sns.countplot(x='BloodRelative', hue='Survived', data=Train_df[Train_df['Pclass'] == 3])"
   ]
  },
  {
   "cell_type": "markdown",
   "metadata": {},
   "source": [
    "Evident from below, same is true for Class 2 and 3. One hypothesis why this might've happened is that many of those Females who were rescued were rescued along with children. But all in all this newly created feature is evidently important for our model."
   ]
  },
  {
   "cell_type": "code",
   "execution_count": 28,
   "metadata": {
    "scrolled": true
   },
   "outputs": [
    {
     "data": {
      "text/plain": [
       "<matplotlib.axes._subplots.AxesSubplot at 0x22ae27d8fd0>"
      ]
     },
     "execution_count": 28,
     "metadata": {},
     "output_type": "execute_result"
    },
    {
     "data": {
      "image/png": "[encoded data removed]",
      "text/plain": [
       "<Figure size 432x288 with 1 Axes>"
      ]
     },
     "metadata": {
      "needs_background": "light"
     },
     "output_type": "display_data"
    }
   ],
   "source": [
    "sns.countplot(x='BloodRelative', hue='Survived', data=Train_df[Train_df['Pclass'] == 2])"
   ]
  },
  {
   "cell_type": "code",
   "execution_count": 29,
   "metadata": {
    "scrolled": false
   },
   "outputs": [
    {
     "data": {
      "text/plain": [
       "<matplotlib.axes._subplots.AxesSubplot at 0x22ae2834dd8>"
      ]
     },
     "execution_count": 29,
     "metadata": {},
     "output_type": "execute_result"
    },
    {
     "data": {
      "image/png": "[encoded data removed]",
      "text/plain": [
       "<Figure size 432x288 with 1 Axes>"
      ]
     },
     "metadata": {
      "needs_background": "light"
     },
     "output_type": "display_data"
    }
   ],
   "source": [
    "sns.countplot(x='BloodRelative', hue='Survived', data=Train_df[Train_df['Pclass'] == 1])"
   ]
  },
  {
   "cell_type": "markdown",
   "metadata": {},
   "source": [
    "# 1.3.4 Feature Analysis - Name"
   ]
  },
  {
   "cell_type": "markdown",
   "metadata": {},
   "source": [
    "We already know that each of these name are unique but we let's see if we can weed out any information from these features such as married/unmarried, husband/wife, child ..etc"
   ]
  },
  {
   "cell_type": "markdown",
   "metadata": {},
   "source": [
    "It's clear from the below analysis that mapping of husband wife from surname is not straight forward. Hence we will refrain from it."
   ]
  },
  {
   "cell_type": "code",
   "execution_count": 30,
   "metadata": {
    "scrolled": true
   },
   "outputs": [
    {
     "name": "stdout",
     "output_type": "stream",
     "text": [
      "93\n",
      "63\n",
      "120\n",
      "77\n"
     ]
    }
   ],
   "source": [
    "print(Train_df[(Train_df['Sex'] == 'male') & (Train_df['Parch'] > 0)].Name.count())\n",
    "print(Train_df[(Train_df['Sex'] == 'male') & (Train_df['Parch'] > 0)].Name.str.split(',').str[0].nunique())\n",
    "print(Train_df[(Train_df['Sex'] == 'female') & (Train_df['Parch'] > 0)].Name.count())\n",
    "print(Train_df[(Train_df['Sex'] == 'female') & (Train_df['Parch'] > 0)].Name.str.split(',').str[0].nunique())"
   ]
  },
  {
   "cell_type": "markdown",
   "metadata": {},
   "source": [
    "Below analysis tells us that there were around 40 male childs with age upto 12 around which 23 managed to survive again not a great divide for such a small subsection, so we refrain from creating a column but we can use this analysis to fill out missing age values to passengers with masters in their name."
   ]
  },
  {
   "cell_type": "code",
   "execution_count": 31,
   "metadata": {},
   "outputs": [
    {
     "data": {
      "text/plain": [
       "<matplotlib.axes._subplots.AxesSubplot at 0x22ae2890828>"
      ]
     },
     "execution_count": 31,
     "metadata": {},
     "output_type": "execute_result"
    },
    {
     "data": {
      "image/png": "[encoded data removed]",
      "text/plain": [
       "<Figure size 432x288 with 1 Axes>"
      ]
     },
     "metadata": {
      "needs_background": "light"
     },
     "output_type": "display_data"
    }
   ],
   "source": [
    "sns.countplot(Train_df[(Train_df['Name'].str.contains('Master'))].Survived)"
   ]
  },
  {
   "cell_type": "code",
   "execution_count": 32,
   "metadata": {
    "scrolled": true
   },
   "outputs": [
    {
     "name": "stdout",
     "output_type": "stream",
     "text": [
      "12.0\n"
     ]
    }
   ],
   "source": [
    "print(Train_df[(Train_df['Name'].str.contains('Master'))].Age.max())"
   ]
  },
  {
   "cell_type": "markdown",
   "metadata": {},
   "source": [
    "We can't conclude anything from this, since females in general had higher chance of survival"
   ]
  },
  {
   "cell_type": "code",
   "execution_count": 33,
   "metadata": {
    "scrolled": false
   },
   "outputs": [
    {
     "data": {
      "text/plain": [
       "<matplotlib.axes._subplots.AxesSubplot at 0x22ae28ee898>"
      ]
     },
     "execution_count": 33,
     "metadata": {},
     "output_type": "execute_result"
    },
    {
     "data": {
      "image/png": "[encoded data removed]",
      "text/plain": [
       "<Figure size 432x288 with 1 Axes>"
      ]
     },
     "metadata": {
      "needs_background": "light"
     },
     "output_type": "display_data"
    }
   ],
   "source": [
    "sns.countplot(Train_df[(Train_df['Name'].str.contains('Miss'))].Survived)"
   ]
  },
  {
   "cell_type": "markdown",
   "metadata": {},
   "source": [
    "Let's see if we can derive titles out. From below we can see that we can indeed draw these features out but we're not sure how helpful it'll be."
   ]
  },
  {
   "cell_type": "code",
   "execution_count": 34,
   "metadata": {},
   "outputs": [
    {
     "data": {
      "text/plain": [
       "<matplotlib.axes._subplots.AxesSubplot at 0x22ae299cc88>"
      ]
     },
     "execution_count": 34,
     "metadata": {},
     "output_type": "execute_result"
    },
    {
     "data": {
      "image/png": "[encoded data removed]",
      "text/plain": [
       "<Figure size 432x288 with 1 Axes>"
      ]
     },
     "metadata": {
      "needs_background": "light"
     },
     "output_type": "display_data"
    }
   ],
   "source": [
    "sns.countplot(Train_df['Name'].str.split(', ').str[1].str.split('.').str[0])"
   ]
  },
  {
   "cell_type": "markdown",
   "metadata": {},
   "source": [
    "We divide the titles into 5 groups (Master, Mrs, Miss, Master and Other) based on above analysis. "
   ]
  },
  {
   "cell_type": "code",
   "execution_count": 35,
   "metadata": {},
   "outputs": [],
   "source": [
    "Train_df['Title'] = Train_df['Name'].str.split(', ').str[1].str.split('.').str[0].apply(\n",
    "    lambda x: x if (x =='Mr') \n",
    "    else (x if (x == 'Mrs') \n",
    "          else (x if (x == 'Miss') \n",
    "                else (x if (x == 'Master') else 'Other')\n",
    "               )\n",
    "         )\n",
    ")\n",
    "Test_df['Title'] = Test_df['Name'].str.split(', ').str[1].str.split('.').str[0].apply(\n",
    "    lambda x: x if (x =='Mr') \n",
    "    else (x if (x == 'Mrs') \n",
    "          else (x if (x == 'Miss') \n",
    "                else (x if (x == 'Master') else 'Other')\n",
    "               )\n",
    "         )\n",
    ")"
   ]
  },
  {
   "cell_type": "markdown",
   "metadata": {},
   "source": [
    "From below we can see that married women have higher chance of survival than unmarried women, probably this will be useful in sub-categorisation of female passengers"
   ]
  },
  {
   "cell_type": "code",
   "execution_count": 36,
   "metadata": {
    "scrolled": true
   },
   "outputs": [
    {
     "data": {
      "text/plain": [
       "<matplotlib.axes._subplots.AxesSubplot at 0x22ae298bcf8>"
      ]
     },
     "execution_count": 36,
     "metadata": {},
     "output_type": "execute_result"
    },
    {
     "data": {
      "image/png": "[encoded data removed]",
      "text/plain": [
       "<Figure size 432x288 with 1 Axes>"
      ]
     },
     "metadata": {
      "needs_background": "light"
     },
     "output_type": "display_data"
    }
   ],
   "source": [
    "sns.countplot(x = 'Title', hue = 'Survived', data = Train_df)"
   ]
  },
  {
   "cell_type": "markdown",
   "metadata": {},
   "source": [
    "# 1.3.5 Feature Analysis - Fare"
   ]
  },
  {
   "cell_type": "markdown",
   "metadata": {},
   "source": [
    "It seems that fares aren't showing significant difference for non-survivors and survivors for class 1 and 2, but clearly there's some siginficant increase in survival rate  with increase in ticket prices but still we cannot clearly say if it will be useful in our model. For now we delay our decision on the imporatnce of fare, we'll decide it as we adjust the model."
   ]
  },
  {
   "cell_type": "code",
   "execution_count": 37,
   "metadata": {},
   "outputs": [
    {
     "data": {
      "text/plain": [
       "<matplotlib.axes._subplots.AxesSubplot at 0x22ae2a780f0>"
      ]
     },
     "execution_count": 37,
     "metadata": {},
     "output_type": "execute_result"
    },
    {
     "data": {
      "image/png": "[encoded data removed]",
      "text/plain": [
       "<Figure size 1440x720 with 1 Axes>"
      ]
     },
     "metadata": {
      "needs_background": "light"
     },
     "output_type": "display_data"
    }
   ],
   "source": [
    "plt.figure(figsize=(20,10))\n",
    "sns.boxplot(x='Pclass', y=\"Fare\",\n",
    "            hue=\"Survived\", palette=[\"m\", \"g\"],\n",
    "            data=Train_df)"
   ]
  },
  {
   "cell_type": "markdown",
   "metadata": {},
   "source": [
    "# 1.3.6 Feature Analysis - Ticket"
   ]
  },
  {
   "cell_type": "markdown",
   "metadata": {},
   "source": [
    "Too many unique values means we'd most likely drop this column as adding this column will only result in over fitting of the model"
   ]
  },
  {
   "cell_type": "code",
   "execution_count": 38,
   "metadata": {
    "scrolled": true
   },
   "outputs": [
    {
     "data": {
      "text/plain": [
       "681"
      ]
     },
     "execution_count": 38,
     "metadata": {},
     "output_type": "execute_result"
    }
   ],
   "source": [
    "Train_df['Ticket'].nunique()"
   ]
  },
  {
   "cell_type": "code",
   "execution_count": 39,
   "metadata": {},
   "outputs": [],
   "source": [
    "Train_df = Train_df.drop(['Ticket'], axis = 1)\n",
    "Test_df = Test_df.drop(['Ticket'], axis = 1)"
   ]
  },
  {
   "cell_type": "code",
   "execution_count": 40,
   "metadata": {
    "scrolled": true
   },
   "outputs": [
    {
     "name": "stdout",
     "output_type": "stream",
     "text": [
      "Index(['PassengerId', 'Survived', 'Pclass', 'Name', 'Sex', 'Age', 'SibSp',\n",
      "       'Parch', 'Fare', 'Cabin', 'Embarked', 'BloodRelative', 'Title'],\n",
      "      dtype='object')\n",
      "Index(['PassengerId', 'Pclass', 'Name', 'Sex', 'Age', 'SibSp', 'Parch', 'Fare',\n",
      "       'Cabin', 'Embarked', 'BloodRelative', 'Title'],\n",
      "      dtype='object')\n"
     ]
    }
   ],
   "source": [
    "print(Train_df.columns)\n",
    "print(Test_df.columns)"
   ]
  },
  {
   "cell_type": "markdown",
   "metadata": {},
   "source": [
    "# 1.3.7 Feature Analysis - Embarked"
   ]
  },
  {
   "cell_type": "markdown",
   "metadata": {},
   "source": [
    "Majority of passengers were from Southampton, thus the disproportionate represenation for  survivors, interestingly passengers who boarded at Cheroboug have a higher survival rate, but they're very few in numbers. We're still on fence about adding this column to the model, we again decide to delay the decision and decide dynmically based on the model performance but intuitively it seems they may not be of much use. Additionally we fix the 2 missing values by setting it to 'S' ( for Southhampton)"
   ]
  },
  {
   "cell_type": "code",
   "execution_count": 41,
   "metadata": {
    "scrolled": true
   },
   "outputs": [
    {
     "data": {
      "text/plain": [
       "<matplotlib.axes._subplots.AxesSubplot at 0x22ae3efc198>"
      ]
     },
     "execution_count": 41,
     "metadata": {},
     "output_type": "execute_result"
    },
    {
     "data": {
      "image/png": "[encoded data removed]",
      "text/plain": [
       "<Figure size 432x288 with 1 Axes>"
      ]
     },
     "metadata": {
      "needs_background": "light"
     },
     "output_type": "display_data"
    }
   ],
   "source": [
    "sns.countplot(x='Embarked', hue='Survived', data = Train_df)"
   ]
  },
  {
   "cell_type": "code",
   "execution_count": 42,
   "metadata": {},
   "outputs": [],
   "source": [
    "Train_df.Embarked = Train_df.Embarked.fillna('S')"
   ]
  },
  {
   "cell_type": "markdown",
   "metadata": {},
   "source": [
    "# 1.3.8 Feature Analysis - Cabin"
   ]
  },
  {
   "cell_type": "markdown",
   "metadata": {},
   "source": [
    "Quite Clearly there is a siginificant difference, Additionally  we'd want see if people had cabin at same deck level had higher chances of survival"
   ]
  },
  {
   "cell_type": "code",
   "execution_count": 43,
   "metadata": {},
   "outputs": [
    {
     "data": {
      "text/plain": [
       "<matplotlib.axes._subplots.AxesSubplot at 0x22ae3b07048>"
      ]
     },
     "execution_count": 43,
     "metadata": {},
     "output_type": "execute_result"
    },
    {
     "data": {
      "image/png": "[encoded data removed]",
      "text/plain": [
       "<Figure size 432x288 with 1 Axes>"
      ]
     },
     "metadata": {
      "needs_background": "light"
     },
     "output_type": "display_data"
    }
   ],
   "source": [
    "sns.countplot(x = 'Survived', data = Train_df[(Train_df.Cabin.isna())])"
   ]
  },
  {
   "cell_type": "code",
   "execution_count": 44,
   "metadata": {
    "scrolled": true
   },
   "outputs": [
    {
     "data": {
      "text/plain": [
       "<matplotlib.axes._subplots.AxesSubplot at 0x22ae3b16358>"
      ]
     },
     "execution_count": 44,
     "metadata": {},
     "output_type": "execute_result"
    },
    {
     "data": {
      "image/png": "[encoded data removed]",
      "text/plain": [
       "<Figure size 432x288 with 1 Axes>"
      ]
     },
     "metadata": {
      "needs_background": "light"
     },
     "output_type": "display_data"
    }
   ],
   "source": [
    "sns.countplot(x = 'Survived', data = Train_df[~(Train_df.Cabin.isna())])"
   ]
  },
  {
   "cell_type": "markdown",
   "metadata": {},
   "source": [
    "We have 7 unique labels for decks or sections, we'd want to add this to our table to see if this has any impact on the survival and also check if this covers the same information as Class"
   ]
  },
  {
   "cell_type": "code",
   "execution_count": 45,
   "metadata": {
    "scrolled": false
   },
   "outputs": [
    {
     "data": {
      "text/plain": [
       "array(['C', 'E', 'G', 'D', 'A', 'B', 'F', 'T'], dtype=object)"
      ]
     },
     "execution_count": 45,
     "metadata": {},
     "output_type": "execute_result"
    }
   ],
   "source": [
    "Train_df[~(Train_df.Cabin.isna())].Cabin.str[0].unique()"
   ]
  },
  {
   "cell_type": "code",
   "execution_count": 46,
   "metadata": {},
   "outputs": [],
   "source": [
    "Train_df['Deck'] = Train_df['Cabin'].str[0].apply(\n",
    "    lambda x: 'N' if (x == '') \n",
    "    else x\n",
    ")\n",
    "Test_df['Deck'] = Test_df['Cabin'].str[0].apply(\n",
    "    lambda x: 'NC' if (x == '') \n",
    "    else x\n",
    ")"
   ]
  },
  {
   "cell_type": "markdown",
   "metadata": {},
   "source": [
    "As suspected although there's some significant difference in deck level but it seems that class is already capturing the difference. So we're more likely to drop this newly created variable. But clearly there's some order in the deck we'll create a ordinal feature to cover this and assign the missing values as 0."
   ]
  },
  {
   "cell_type": "code",
   "execution_count": 47,
   "metadata": {
    "scrolled": true
   },
   "outputs": [
    {
     "data": {
      "text/plain": [
       "<matplotlib.axes._subplots.AxesSubplot at 0x22ae3bb9f60>"
      ]
     },
     "execution_count": 47,
     "metadata": {},
     "output_type": "execute_result"
    },
    {
     "data": {
      "image/png": "[encoded data removed]",
      "text/plain": [
       "<Figure size 432x288 with 1 Axes>"
      ]
     },
     "metadata": {
      "needs_background": "light"
     },
     "output_type": "display_data"
    }
   ],
   "source": [
    "sns.countplot(x='Deck', hue='Survived', data= Train_df)"
   ]
  },
  {
   "cell_type": "code",
   "execution_count": 48,
   "metadata": {
    "scrolled": false
   },
   "outputs": [
    {
     "data": {
      "text/plain": [
       "<matplotlib.axes._subplots.AxesSubplot at 0x22ae3c4e198>"
      ]
     },
     "execution_count": 48,
     "metadata": {},
     "output_type": "execute_result"
    },
    {
     "data": {
      "image/png": "[encoded data removed]",
      "text/plain": [
       "<Figure size 432x288 with 1 Axes>"
      ]
     },
     "metadata": {
      "needs_background": "light"
     },
     "output_type": "display_data"
    }
   ],
   "source": [
    "sns.countplot(x='Deck', hue='Pclass', data= Train_df)"
   ]
  },
  {
   "cell_type": "code",
   "execution_count": 49,
   "metadata": {},
   "outputs": [],
   "source": [
    "Train_df['Deck'] = Train_df['Deck'].map({\"A\": 1, \"B\": 2, \"C\": 3, \"D\": 5, \"E\": 6, \"F\": 7, \"G\": 8, \"T\": 4})\n",
    "Train_df['Deck'] = Train_df['Deck'].fillna(0)\n",
    "Train_df['Deck'] = Train_df['Deck'].astype(int)\n",
    "Test_df['Deck'] = Test_df['Deck'].map({\"A\": 1, \"B\": 2, \"C\": 3, \"D\": 5, \"E\": 6, \"F\": 7, \"G\": 8, \"T\": 4})\n",
    "Test_df['Deck'] = Test_df['Deck'].fillna(0)\n",
    "Test_df['Deck'] = Test_df['Deck'].astype(int)"
   ]
  },
  {
   "cell_type": "markdown",
   "metadata": {},
   "source": [
    "Clearly there's some difference in the survival rates of class 1 passenger based on deck, but we're not sure as to how it'll aid in our model."
   ]
  },
  {
   "cell_type": "code",
   "execution_count": 50,
   "metadata": {
    "scrolled": true
   },
   "outputs": [
    {
     "data": {
      "text/plain": [
       "<matplotlib.axes._subplots.AxesSubplot at 0x22ae3cc0160>"
      ]
     },
     "execution_count": 50,
     "metadata": {},
     "output_type": "execute_result"
    },
    {
     "data": {
      "image/png": "[encoded data removed]",
      "text/plain": [
       "<Figure size 432x288 with 1 Axes>"
      ]
     },
     "metadata": {
      "needs_background": "light"
     },
     "output_type": "display_data"
    }
   ],
   "source": [
    "sns.countplot(x='Survived', hue='Deck', data= Train_df[Train_df.Pclass == 1])"
   ]
  },
  {
   "cell_type": "markdown",
   "metadata": {},
   "source": [
    "# 1.3.9 Feature Analysis - Age"
   ]
  },
  {
   "cell_type": "markdown",
   "metadata": {},
   "source": [
    "Let's start with our analysis of Age. There are 177 missing values let's see how we can fix this."
   ]
  },
  {
   "cell_type": "markdown",
   "metadata": {},
   "source": [
    "As we can see from below although there's a single peak quite clearly but still Age is not normally distributed hence we cannnot use random normal distribution to fill out values rather we divide missing values into groups and then assign values probabilistically."
   ]
  },
  {
   "cell_type": "code",
   "execution_count": 51,
   "metadata": {
    "scrolled": true
   },
   "outputs": [
    {
     "data": {
      "text/plain": [
       "<matplotlib.axes._subplots.AxesSubplot at 0x22ae3d5e048>"
      ]
     },
     "execution_count": 51,
     "metadata": {},
     "output_type": "execute_result"
    },
    {
     "data": {
      "image/png": "[encoded data removed]",
      "text/plain": [
       "<Figure size 432x288 with 1 Axes>"
      ]
     },
     "metadata": {
      "needs_background": "light"
     },
     "output_type": "display_data"
    }
   ],
   "source": [
    "sns.distplot(Train_df[~Train_df['Age'].isna()].Age)"
   ]
  },
  {
   "cell_type": "markdown",
   "metadata": {},
   "source": [
    "People with missing age are mostly from class 3, let's further divide it into groups so that we proportionately assign values"
   ]
  },
  {
   "cell_type": "code",
   "execution_count": 52,
   "metadata": {
    "scrolled": false
   },
   "outputs": [
    {
     "data": {
      "text/html": [
       "<div>\n",
       "<style scoped>\n",
       "    .dataframe tbody tr th:only-of-type {\n",
       "        vertical-align: middle;\n",
       "    }\n",
       "\n",
       "    .dataframe tbody tr th {\n",
       "        vertical-align: top;\n",
       "    }\n",
       "\n",
       "    .dataframe thead th {\n",
       "        text-align: right;\n",
       "    }\n",
       "</style>\n",
       "<table border=\"1\" class=\"dataframe\">\n",
       "  <thead>\n",
       "    <tr style=\"text-align: right;\">\n",
       "      <th></th>\n",
       "      <th>count</th>\n",
       "      <th>mean</th>\n",
       "      <th>std</th>\n",
       "      <th>min</th>\n",
       "      <th>25%</th>\n",
       "      <th>50%</th>\n",
       "      <th>75%</th>\n",
       "      <th>max</th>\n",
       "    </tr>\n",
       "  </thead>\n",
       "  <tbody>\n",
       "    <tr>\n",
       "      <th>PassengerId</th>\n",
       "      <td>177.0</td>\n",
       "      <td>435.581921</td>\n",
       "      <td>250.552901</td>\n",
       "      <td>6.0</td>\n",
       "      <td>230.00</td>\n",
       "      <td>452.00</td>\n",
       "      <td>634.00</td>\n",
       "      <td>889.000</td>\n",
       "    </tr>\n",
       "    <tr>\n",
       "      <th>Survived</th>\n",
       "      <td>177.0</td>\n",
       "      <td>0.293785</td>\n",
       "      <td>0.456787</td>\n",
       "      <td>0.0</td>\n",
       "      <td>0.00</td>\n",
       "      <td>0.00</td>\n",
       "      <td>1.00</td>\n",
       "      <td>1.000</td>\n",
       "    </tr>\n",
       "    <tr>\n",
       "      <th>Pclass</th>\n",
       "      <td>177.0</td>\n",
       "      <td>2.598870</td>\n",
       "      <td>0.763216</td>\n",
       "      <td>1.0</td>\n",
       "      <td>3.00</td>\n",
       "      <td>3.00</td>\n",
       "      <td>3.00</td>\n",
       "      <td>3.000</td>\n",
       "    </tr>\n",
       "    <tr>\n",
       "      <th>Age</th>\n",
       "      <td>0.0</td>\n",
       "      <td>NaN</td>\n",
       "      <td>NaN</td>\n",
       "      <td>NaN</td>\n",
       "      <td>NaN</td>\n",
       "      <td>NaN</td>\n",
       "      <td>NaN</td>\n",
       "      <td>NaN</td>\n",
       "    </tr>\n",
       "    <tr>\n",
       "      <th>SibSp</th>\n",
       "      <td>177.0</td>\n",
       "      <td>0.564972</td>\n",
       "      <td>1.626316</td>\n",
       "      <td>0.0</td>\n",
       "      <td>0.00</td>\n",
       "      <td>0.00</td>\n",
       "      <td>0.00</td>\n",
       "      <td>8.000</td>\n",
       "    </tr>\n",
       "    <tr>\n",
       "      <th>Parch</th>\n",
       "      <td>177.0</td>\n",
       "      <td>0.180791</td>\n",
       "      <td>0.534145</td>\n",
       "      <td>0.0</td>\n",
       "      <td>0.00</td>\n",
       "      <td>0.00</td>\n",
       "      <td>0.00</td>\n",
       "      <td>2.000</td>\n",
       "    </tr>\n",
       "    <tr>\n",
       "      <th>Fare</th>\n",
       "      <td>177.0</td>\n",
       "      <td>22.158567</td>\n",
       "      <td>31.874608</td>\n",
       "      <td>0.0</td>\n",
       "      <td>7.75</td>\n",
       "      <td>8.05</td>\n",
       "      <td>24.15</td>\n",
       "      <td>227.525</td>\n",
       "    </tr>\n",
       "    <tr>\n",
       "      <th>BloodRelative</th>\n",
       "      <td>177.0</td>\n",
       "      <td>0.248588</td>\n",
       "      <td>0.433420</td>\n",
       "      <td>0.0</td>\n",
       "      <td>0.00</td>\n",
       "      <td>0.00</td>\n",
       "      <td>0.00</td>\n",
       "      <td>1.000</td>\n",
       "    </tr>\n",
       "    <tr>\n",
       "      <th>Deck</th>\n",
       "      <td>177.0</td>\n",
       "      <td>0.378531</td>\n",
       "      <td>1.255982</td>\n",
       "      <td>0.0</td>\n",
       "      <td>0.00</td>\n",
       "      <td>0.00</td>\n",
       "      <td>0.00</td>\n",
       "      <td>7.000</td>\n",
       "    </tr>\n",
       "  </tbody>\n",
       "</table>\n",
       "</div>"
      ],
      "text/plain": [
       "               count        mean         std  min     25%     50%     75%  \\\n",
       "PassengerId    177.0  435.581921  250.552901  6.0  230.00  452.00  634.00   \n",
       "Survived       177.0    0.293785    0.456787  0.0    0.00    0.00    1.00   \n",
       "Pclass         177.0    2.598870    0.763216  1.0    3.00    3.00    3.00   \n",
       "Age              0.0         NaN         NaN  NaN     NaN     NaN     NaN   \n",
       "SibSp          177.0    0.564972    1.626316  0.0    0.00    0.00    0.00   \n",
       "Parch          177.0    0.180791    0.534145  0.0    0.00    0.00    0.00   \n",
       "Fare           177.0   22.158567   31.874608  0.0    7.75    8.05   24.15   \n",
       "BloodRelative  177.0    0.248588    0.433420  0.0    0.00    0.00    0.00   \n",
       "Deck           177.0    0.378531    1.255982  0.0    0.00    0.00    0.00   \n",
       "\n",
       "                   max  \n",
       "PassengerId    889.000  \n",
       "Survived         1.000  \n",
       "Pclass           3.000  \n",
       "Age                NaN  \n",
       "SibSp            8.000  \n",
       "Parch            2.000  \n",
       "Fare           227.525  \n",
       "BloodRelative    1.000  \n",
       "Deck             7.000  "
      ]
     },
     "execution_count": 52,
     "metadata": {},
     "output_type": "execute_result"
    }
   ],
   "source": [
    "Train_df[Train_df.Age.isna()].describe().T"
   ]
  },
  {
   "cell_type": "markdown",
   "metadata": {},
   "source": [
    "Proportionately Adult males havee large number of missing values, first we'll assign mean to  sammler groups and then see if we can do a further class wise subsection for adult males"
   ]
  },
  {
   "cell_type": "code",
   "execution_count": 53,
   "metadata": {
    "scrolled": true
   },
   "outputs": [
    {
     "name": "stdout",
     "output_type": "stream",
     "text": [
      "Train\n",
      "36\n",
      "17\n",
      "4\n",
      "119\n",
      "1\n",
      "Test\n",
      "14\n",
      "10\n",
      "4\n",
      "57\n",
      "1\n"
     ]
    }
   ],
   "source": [
    "print('Train')\n",
    "print(Train_df[(Train_df['Title'] == 'Miss') & ~(Train_df.Age > 0)].PassengerId.count())\n",
    "print(Train_df[(Train_df['Title'] == 'Mrs') & ~(Train_df.Age > 0)].PassengerId.count())\n",
    "print(Train_df[(Train_df['Title'] == 'Master') & ~(Train_df.Age > 0)].PassengerId.count())\n",
    "print(Train_df[(Train_df['Title'] == 'Mr') & ~(Train_df.Age > 0)].PassengerId.count())\n",
    "print(Train_df[(Train_df['Title'] == 'Other') & ~(Train_df.Age > 0)].PassengerId.count())\n",
    "print('Test')\n",
    "print(Test_df[(Test_df['Title'] == 'Miss') & ~(Test_df.Age > 0)].PassengerId.count())\n",
    "print(Test_df[(Test_df['Title'] == 'Mrs') & ~(Test_df.Age > 0)].PassengerId.count())\n",
    "print(Test_df[(Test_df['Title'] == 'Master') & ~(Test_df.Age > 0)].PassengerId.count())\n",
    "print(Test_df[(Test_df['Title'] == 'Mr') & ~(Test_df.Age > 0)].PassengerId.count())\n",
    "print(Test_df[(Test_df['Title'] == 'Other') & ~(Test_df.Age > 0)].PassengerId.count())"
   ]
  },
  {
   "cell_type": "markdown",
   "metadata": {},
   "source": [
    "First write 2 general functions each for test and train to deal with all categories except 'Mr' and test it."
   ]
  },
  {
   "cell_type": "code",
   "execution_count": 54,
   "metadata": {},
   "outputs": [],
   "source": [
    "def FixAgeTrain(title, pclass = 0):\n",
    "    cls = [1,2,3]\n",
    "    if pclass > 0:\n",
    "        cls = [pclass]\n",
    "    np.random.seed(44)\n",
    "    index_list = Train_df[(Train_df['Title'] == title) & ~(Train_df.Age > 0) & (Train_df.Pclass.isin(cls))].index\n",
    "    mean = Train_df[(Train_df['Title'] == title) & (Train_df.Age > 0) & (Train_df.Pclass.isin(cls))].Age.mean()\n",
    "    std = Train_df[(Train_df['Title'] == title) & (Train_df.Age > 0) & (Train_df.Pclass.isin(cls))].Age.std()\n",
    "    count = Train_df[(Train_df['Title'] == title) & ~(Train_df.Age > 0) & (Train_df.Pclass.isin(cls))].PassengerId.count()\n",
    "    age_values = np.random.randint(mean - std, mean + std, size = count)\n",
    "    counter = 0\n",
    "    \n",
    "    for i in index_list:\n",
    "        Train_df.iloc[i,5] = age_values[counter]\n",
    "        counter = counter + 1\n",
    "        \n",
    "def FixAgeTest(title, pclass = 0):\n",
    "    cls = [1,2,3]\n",
    "    if pclass > 0:\n",
    "        cls = [pclass]\n",
    "    np.random.seed(44)\n",
    "    index_list = Test_df[(Test_df['Title'] == title) & ~(Test_df.Age > 0) & (Test_df.Pclass.isin(cls))].index\n",
    "    mean = Train_df[(Train_df['Title'] == title) & (Train_df.Age > 0) & (Train_df.Pclass.isin(cls))].Age.mean()\n",
    "    std = Train_df[(Train_df['Title'] == title) & (Train_df.Age > 0) & (Train_df.Pclass.isin(cls))].Age.std()\n",
    "    count = Test_df[(Test_df['Title'] == title) & ~(Test_df.Age > 0) & (Test_df.Pclass.isin(cls))].PassengerId.count()\n",
    "    age_values = np.random.randint(mean - std, mean + std, size = count)\n",
    "    counter = 0\n",
    "    \n",
    "    for i in index_list:\n",
    "        Test_df.iloc[i,4] = age_values[counter]\n",
    "        counter = counter + 1"
   ]
  },
  {
   "cell_type": "markdown",
   "metadata": {},
   "source": [
    "Testing the Age fixing function"
   ]
  },
  {
   "cell_type": "code",
   "execution_count": 55,
   "metadata": {},
   "outputs": [
    {
     "name": "stdout",
     "output_type": "stream",
     "text": [
      "Int64Index([244, 339, 344, 417], dtype='int64')\n",
      "7.406470588235294\n",
      "4.67246982491122\n",
      "[6 5 3 5]\n",
      "244\n",
      "0\n",
      "nan\n",
      "6.0\n",
      "339\n",
      "1\n",
      "nan\n",
      "5.0\n",
      "344\n",
      "2\n",
      "nan\n",
      "3.0\n",
      "417\n",
      "3\n",
      "nan\n",
      "5.0\n"
     ]
    }
   ],
   "source": [
    "np.random.seed(44)\n",
    "train = Test_df.copy()\n",
    "title = 'Master'\n",
    "index_list = train[(train['Title'] == title) & ~(train.Age > 0)].index\n",
    "mean = train[(train['Title'] == title) & (train.Age > 0)].Age.mean()\n",
    "std = train[(train['Title'] == title) & (train.Age > 0)].Age.std()\n",
    "count = train[(train['Title'] == title) & ~(train.Age > 0)].PassengerId.count()\n",
    "age_values = np.random.randint(mean - std, mean + std, size = count)\n",
    "counter = 0\n",
    "print(index_list); print(mean);print(std); print(age_values);\n",
    "\n",
    "for i in index_list:\n",
    "    old = i\n",
    "    print(i)\n",
    "    print(counter)\n",
    "    print(train.iloc[i,4])\n",
    "    train.iloc[i,4] = age_values[counter]\n",
    "    counter = counter + 1\n",
    "    print(train.iloc[old,4])\n"
   ]
  },
  {
   "cell_type": "markdown",
   "metadata": {},
   "source": [
    "Assigning values for young adults for both test and train set"
   ]
  },
  {
   "cell_type": "code",
   "execution_count": 56,
   "metadata": {
    "scrolled": true
   },
   "outputs": [
    {
     "name": "stdout",
     "output_type": "stream",
     "text": [
      "4\n",
      "0\n"
     ]
    }
   ],
   "source": [
    "print(Train_df[(Train_df['Title'] == 'Master') & ~(Train_df.Age > 0)].PassengerId.count())\n",
    "FixAgeTrain('Master')\n",
    "print(Train_df[(Train_df['Title'] == 'Master') & ~(Train_df.Age > 0)].PassengerId.count())"
   ]
  },
  {
   "cell_type": "code",
   "execution_count": 57,
   "metadata": {},
   "outputs": [
    {
     "name": "stdout",
     "output_type": "stream",
     "text": [
      "4\n",
      "0\n"
     ]
    }
   ],
   "source": [
    "print(Test_df[(Test_df['Title'] == 'Master') & ~(Test_df.Age > 0)].PassengerId.count())\n",
    "FixAgeTest('Master')\n",
    "print(Test_df[(Test_df['Title'] == 'Master') & ~(Test_df.Age > 0)].PassengerId.count())"
   ]
  },
  {
   "cell_type": "markdown",
   "metadata": {},
   "source": [
    "Assigning values for passenger with other titles for both test and train set"
   ]
  },
  {
   "cell_type": "code",
   "execution_count": 58,
   "metadata": {
    "scrolled": true
   },
   "outputs": [
    {
     "name": "stdout",
     "output_type": "stream",
     "text": [
      "1\n",
      "0\n",
      "1\n",
      "0\n"
     ]
    }
   ],
   "source": [
    "print(Train_df[(Train_df['Title'] == 'Other') & ~(Train_df.Age > 0)].PassengerId.count())\n",
    "FixAgeTrain('Other')\n",
    "print(Train_df[(Train_df['Title'] == 'Other') & ~(Train_df.Age > 0)].PassengerId.count())\n",
    "print(Test_df[(Test_df['Title'] == 'Other') & ~(Test_df.Age > 0)].PassengerId.count())\n",
    "FixAgeTest('Other')\n",
    "print(Test_df[(Test_df['Title'] == 'Other') & ~(Test_df.Age > 0)].PassengerId.count())"
   ]
  },
  {
   "cell_type": "markdown",
   "metadata": {},
   "source": [
    "Assigning values for married females for both test and train set by class since there's a significant difference in ages based on the class"
   ]
  },
  {
   "cell_type": "code",
   "execution_count": 59,
   "metadata": {},
   "outputs": [
    {
     "data": {
      "text/html": [
       "<div>\n",
       "<style scoped>\n",
       "    .dataframe tbody tr th:only-of-type {\n",
       "        vertical-align: middle;\n",
       "    }\n",
       "\n",
       "    .dataframe tbody tr th {\n",
       "        vertical-align: top;\n",
       "    }\n",
       "\n",
       "    .dataframe thead th {\n",
       "        text-align: right;\n",
       "    }\n",
       "</style>\n",
       "<table border=\"1\" class=\"dataframe\">\n",
       "  <thead>\n",
       "    <tr style=\"text-align: right;\">\n",
       "      <th></th>\n",
       "      <th>count</th>\n",
       "      <th>mean</th>\n",
       "      <th>std</th>\n",
       "      <th>min</th>\n",
       "      <th>25%</th>\n",
       "      <th>50%</th>\n",
       "      <th>75%</th>\n",
       "      <th>max</th>\n",
       "    </tr>\n",
       "    <tr>\n",
       "      <th>Pclass</th>\n",
       "      <th></th>\n",
       "      <th></th>\n",
       "      <th></th>\n",
       "      <th></th>\n",
       "      <th></th>\n",
       "      <th></th>\n",
       "      <th></th>\n",
       "      <th></th>\n",
       "    </tr>\n",
       "  </thead>\n",
       "  <tbody>\n",
       "    <tr>\n",
       "      <th>1</th>\n",
       "      <td>34.0</td>\n",
       "      <td>40.882353</td>\n",
       "      <td>12.643754</td>\n",
       "      <td>17.0</td>\n",
       "      <td>35.0</td>\n",
       "      <td>41.5</td>\n",
       "      <td>50.75</td>\n",
       "      <td>62.0</td>\n",
       "    </tr>\n",
       "    <tr>\n",
       "      <th>2</th>\n",
       "      <td>41.0</td>\n",
       "      <td>33.682927</td>\n",
       "      <td>10.318525</td>\n",
       "      <td>14.0</td>\n",
       "      <td>26.0</td>\n",
       "      <td>32.0</td>\n",
       "      <td>41.00</td>\n",
       "      <td>57.0</td>\n",
       "    </tr>\n",
       "    <tr>\n",
       "      <th>3</th>\n",
       "      <td>33.0</td>\n",
       "      <td>33.515152</td>\n",
       "      <td>10.031579</td>\n",
       "      <td>15.0</td>\n",
       "      <td>27.0</td>\n",
       "      <td>31.0</td>\n",
       "      <td>40.00</td>\n",
       "      <td>63.0</td>\n",
       "    </tr>\n",
       "  </tbody>\n",
       "</table>\n",
       "</div>"
      ],
      "text/plain": [
       "        count       mean        std   min   25%   50%    75%   max\n",
       "Pclass                                                            \n",
       "1        34.0  40.882353  12.643754  17.0  35.0  41.5  50.75  62.0\n",
       "2        41.0  33.682927  10.318525  14.0  26.0  32.0  41.00  57.0\n",
       "3        33.0  33.515152  10.031579  15.0  27.0  31.0  40.00  63.0"
      ]
     },
     "execution_count": 59,
     "metadata": {},
     "output_type": "execute_result"
    }
   ],
   "source": [
    "Train_df[(Train_df['Title'] == 'Mrs') & (Train_df.Age > 0)].groupby('Pclass').Age.describe()"
   ]
  },
  {
   "cell_type": "code",
   "execution_count": 60,
   "metadata": {
    "scrolled": true
   },
   "outputs": [
    {
     "name": "stdout",
     "output_type": "stream",
     "text": [
      "8\n",
      "0\n",
      "2\n",
      "0\n",
      "0\n",
      "0\n",
      "1\n",
      "0\n",
      "9\n",
      "0\n",
      "7\n",
      "0\n"
     ]
    }
   ],
   "source": [
    "print(Train_df[(Train_df['Title'] == 'Mrs') & ~(Train_df.Age > 0) & (Train_df.Pclass == 1)].PassengerId.count())\n",
    "FixAgeTrain('Mrs',1)\n",
    "print(Train_df[(Train_df['Title'] == 'Mrs') & ~(Train_df.Age > 0) & (Train_df.Pclass == 1)].PassengerId.count())\n",
    "print(Test_df[(Test_df['Title'] == 'Mrs') & ~(Test_df.Age > 0) & (Test_df.Pclass == 1)].PassengerId.count())\n",
    "FixAgeTest('Mrs',1)\n",
    "print(Test_df[(Test_df['Title'] == 'Mrs') & ~(Test_df.Age > 0) & (Test_df.Pclass == 1)].PassengerId.count())\n",
    "\n",
    "print(Train_df[(Train_df['Title'] == 'Mrs') & ~(Train_df.Age > 0) & (Train_df.Pclass == 2)].PassengerId.count())\n",
    "FixAgeTrain('Mrs',2)\n",
    "print(Train_df[(Train_df['Title'] == 'Mrs') & ~(Train_df.Age > 0) & (Train_df.Pclass == 2)].PassengerId.count())\n",
    "print(Test_df[(Test_df['Title'] == 'Mrs') & ~(Test_df.Age > 0) & (Test_df.Pclass == 2)].PassengerId.count())\n",
    "FixAgeTest('Mrs',2)\n",
    "print(Test_df[(Test_df['Title'] == 'Mrs') & ~(Test_df.Age > 0) & (Test_df.Pclass == 2)].PassengerId.count())\n",
    "\n",
    "print(Train_df[(Train_df['Title'] == 'Mrs') & ~(Train_df.Age > 0) & (Train_df.Pclass == 3)].PassengerId.count())\n",
    "FixAgeTrain('Mrs',3)\n",
    "print(Train_df[(Train_df['Title'] == 'Mrs') & ~(Train_df.Age > 0) & (Train_df.Pclass == 3)].PassengerId.count())\n",
    "print(Test_df[(Test_df['Title'] == 'Mrs') & ~(Test_df.Age > 0) & (Test_df.Pclass == 3)].PassengerId.count())\n",
    "FixAgeTest('Mrs',3)\n",
    "print(Test_df[(Test_df['Title'] == 'Mrs') & ~(Test_df.Age > 0) & (Test_df.Pclass == 3)].PassengerId.count())"
   ]
  },
  {
   "cell_type": "markdown",
   "metadata": {},
   "source": [
    "Assigning values for unmarried females (including childs) for both test and train set by class since there's a significant difference in ages based on the class and also because the this particular category has 36 missing values which is not a small number"
   ]
  },
  {
   "cell_type": "code",
   "execution_count": 61,
   "metadata": {},
   "outputs": [
    {
     "data": {
      "text/html": [
       "<div>\n",
       "<style scoped>\n",
       "    .dataframe tbody tr th:only-of-type {\n",
       "        vertical-align: middle;\n",
       "    }\n",
       "\n",
       "    .dataframe tbody tr th {\n",
       "        vertical-align: top;\n",
       "    }\n",
       "\n",
       "    .dataframe thead th {\n",
       "        text-align: right;\n",
       "    }\n",
       "</style>\n",
       "<table border=\"1\" class=\"dataframe\">\n",
       "  <thead>\n",
       "    <tr style=\"text-align: right;\">\n",
       "      <th></th>\n",
       "      <th>count</th>\n",
       "      <th>mean</th>\n",
       "      <th>std</th>\n",
       "      <th>min</th>\n",
       "      <th>25%</th>\n",
       "      <th>50%</th>\n",
       "      <th>75%</th>\n",
       "      <th>max</th>\n",
       "    </tr>\n",
       "    <tr>\n",
       "      <th>Pclass</th>\n",
       "      <th></th>\n",
       "      <th></th>\n",
       "      <th></th>\n",
       "      <th></th>\n",
       "      <th></th>\n",
       "      <th></th>\n",
       "      <th></th>\n",
       "      <th></th>\n",
       "    </tr>\n",
       "  </thead>\n",
       "  <tbody>\n",
       "    <tr>\n",
       "      <th>1</th>\n",
       "      <td>45.0</td>\n",
       "      <td>30.000000</td>\n",
       "      <td>12.852308</td>\n",
       "      <td>2.00</td>\n",
       "      <td>21.00</td>\n",
       "      <td>30.0</td>\n",
       "      <td>36.000</td>\n",
       "      <td>63.0</td>\n",
       "    </tr>\n",
       "    <tr>\n",
       "      <th>2</th>\n",
       "      <td>32.0</td>\n",
       "      <td>22.390625</td>\n",
       "      <td>13.374708</td>\n",
       "      <td>2.00</td>\n",
       "      <td>11.75</td>\n",
       "      <td>24.0</td>\n",
       "      <td>30.625</td>\n",
       "      <td>50.0</td>\n",
       "    </tr>\n",
       "    <tr>\n",
       "      <th>3</th>\n",
       "      <td>69.0</td>\n",
       "      <td>16.123188</td>\n",
       "      <td>9.697315</td>\n",
       "      <td>0.75</td>\n",
       "      <td>9.00</td>\n",
       "      <td>18.0</td>\n",
       "      <td>22.000</td>\n",
       "      <td>45.0</td>\n",
       "    </tr>\n",
       "  </tbody>\n",
       "</table>\n",
       "</div>"
      ],
      "text/plain": [
       "        count       mean        std   min    25%   50%     75%   max\n",
       "Pclass                                                              \n",
       "1        45.0  30.000000  12.852308  2.00  21.00  30.0  36.000  63.0\n",
       "2        32.0  22.390625  13.374708  2.00  11.75  24.0  30.625  50.0\n",
       "3        69.0  16.123188   9.697315  0.75   9.00  18.0  22.000  45.0"
      ]
     },
     "execution_count": 61,
     "metadata": {},
     "output_type": "execute_result"
    }
   ],
   "source": [
    "Train_df[(Train_df['Title'] == 'Miss') & (Train_df.Age > 0)].groupby('Pclass').Age.describe()"
   ]
  },
  {
   "cell_type": "code",
   "execution_count": 62,
   "metadata": {
    "scrolled": false
   },
   "outputs": [
    {
     "name": "stdout",
     "output_type": "stream",
     "text": [
      "1\n",
      "0\n",
      "0\n",
      "0\n",
      "2\n",
      "0\n",
      "0\n",
      "0\n",
      "33\n",
      "0\n",
      "14\n",
      "0\n"
     ]
    }
   ],
   "source": [
    "print(Train_df[(Train_df['Title'] == 'Miss') & ~(Train_df.Age > 0) & (Train_df.Pclass == 1)].PassengerId.count())\n",
    "FixAgeTrain('Miss',1)\n",
    "print(Train_df[(Train_df['Title'] == 'Miss') & ~(Train_df.Age > 0) & (Train_df.Pclass == 1)].PassengerId.count())\n",
    "print(Test_df[(Test_df['Title'] == 'Miss') & ~(Test_df.Age > 0) & (Test_df.Pclass == 1)].PassengerId.count())\n",
    "FixAgeTest('Miss',1)\n",
    "print(Test_df[(Test_df['Title'] == 'Miss') & ~(Test_df.Age > 0) & (Test_df.Pclass == 1)].PassengerId.count())\n",
    "\n",
    "print(Train_df[(Train_df['Title'] == 'Miss') & ~(Train_df.Age > 0) & (Train_df.Pclass == 2)].PassengerId.count())\n",
    "FixAgeTrain('Miss',2)\n",
    "print(Train_df[(Train_df['Title'] == 'Miss') & ~(Train_df.Age > 0) & (Train_df.Pclass == 2)].PassengerId.count())\n",
    "print(Test_df[(Test_df['Title'] == 'Miss') & ~(Test_df.Age > 0) & (Test_df.Pclass == 2)].PassengerId.count())\n",
    "FixAgeTest('Miss',2)\n",
    "print(Test_df[(Test_df['Title'] == 'Miss') & ~(Test_df.Age > 0) & (Test_df.Pclass == 2)].PassengerId.count())\n",
    "\n",
    "print(Train_df[(Train_df['Title'] == 'Miss') & ~(Train_df.Age > 0) & (Train_df.Pclass == 3)].PassengerId.count())\n",
    "FixAgeTrain('Miss',3)\n",
    "print(Train_df[(Train_df['Title'] == 'Miss') & ~(Train_df.Age > 0) & (Train_df.Pclass == 3)].PassengerId.count())\n",
    "print(Test_df[(Test_df['Title'] == 'Miss') & ~(Test_df.Age > 0) & (Test_df.Pclass == 3)].PassengerId.count())\n",
    "FixAgeTest('Miss',3)\n",
    "print(Test_df[(Test_df['Title'] == 'Miss') & ~(Test_df.Age > 0) & (Test_df.Pclass == 3)].PassengerId.count())"
   ]
  },
  {
   "cell_type": "markdown",
   "metadata": {},
   "source": [
    "Quite clearly the age values differ across for classes Males, so let's assign group values class wise for Males"
   ]
  },
  {
   "cell_type": "code",
   "execution_count": 63,
   "metadata": {
    "scrolled": false
   },
   "outputs": [
    {
     "data": {
      "text/html": [
       "<div>\n",
       "<style scoped>\n",
       "    .dataframe tbody tr th:only-of-type {\n",
       "        vertical-align: middle;\n",
       "    }\n",
       "\n",
       "    .dataframe tbody tr th {\n",
       "        vertical-align: top;\n",
       "    }\n",
       "\n",
       "    .dataframe thead th {\n",
       "        text-align: right;\n",
       "    }\n",
       "</style>\n",
       "<table border=\"1\" class=\"dataframe\">\n",
       "  <thead>\n",
       "    <tr style=\"text-align: right;\">\n",
       "      <th></th>\n",
       "      <th>count</th>\n",
       "      <th>mean</th>\n",
       "      <th>std</th>\n",
       "      <th>min</th>\n",
       "      <th>25%</th>\n",
       "      <th>50%</th>\n",
       "      <th>75%</th>\n",
       "      <th>max</th>\n",
       "    </tr>\n",
       "    <tr>\n",
       "      <th>Pclass</th>\n",
       "      <th></th>\n",
       "      <th></th>\n",
       "      <th></th>\n",
       "      <th></th>\n",
       "      <th></th>\n",
       "      <th></th>\n",
       "      <th></th>\n",
       "      <th></th>\n",
       "    </tr>\n",
       "  </thead>\n",
       "  <tbody>\n",
       "    <tr>\n",
       "      <th>1</th>\n",
       "      <td>87.0</td>\n",
       "      <td>41.580460</td>\n",
       "      <td>14.148275</td>\n",
       "      <td>17.0</td>\n",
       "      <td>29.50</td>\n",
       "      <td>40.0</td>\n",
       "      <td>50.500</td>\n",
       "      <td>80.0</td>\n",
       "    </tr>\n",
       "    <tr>\n",
       "      <th>2</th>\n",
       "      <td>82.0</td>\n",
       "      <td>32.768293</td>\n",
       "      <td>11.850977</td>\n",
       "      <td>16.0</td>\n",
       "      <td>24.25</td>\n",
       "      <td>31.0</td>\n",
       "      <td>36.375</td>\n",
       "      <td>70.0</td>\n",
       "    </tr>\n",
       "    <tr>\n",
       "      <th>3</th>\n",
       "      <td>229.0</td>\n",
       "      <td>28.724891</td>\n",
       "      <td>10.490946</td>\n",
       "      <td>11.0</td>\n",
       "      <td>21.00</td>\n",
       "      <td>26.0</td>\n",
       "      <td>34.000</td>\n",
       "      <td>74.0</td>\n",
       "    </tr>\n",
       "  </tbody>\n",
       "</table>\n",
       "</div>"
      ],
      "text/plain": [
       "        count       mean        std   min    25%   50%     75%   max\n",
       "Pclass                                                              \n",
       "1        87.0  41.580460  14.148275  17.0  29.50  40.0  50.500  80.0\n",
       "2        82.0  32.768293  11.850977  16.0  24.25  31.0  36.375  70.0\n",
       "3       229.0  28.724891  10.490946  11.0  21.00  26.0  34.000  74.0"
      ]
     },
     "execution_count": 63,
     "metadata": {},
     "output_type": "execute_result"
    }
   ],
   "source": [
    "Train_df[(Train_df['Title'] == 'Mr') & (Train_df.Age > 0)].groupby('Pclass').Age.describe()"
   ]
  },
  {
   "cell_type": "code",
   "execution_count": 64,
   "metadata": {
    "scrolled": true
   },
   "outputs": [
    {
     "name": "stdout",
     "output_type": "stream",
     "text": [
      "20\n",
      "0\n",
      "7\n",
      "0\n",
      "9\n",
      "0\n",
      "4\n",
      "0\n",
      "90\n",
      "0\n",
      "46\n",
      "0\n"
     ]
    }
   ],
   "source": [
    "print(Train_df[(Train_df['Title'] == 'Mr') & ~(Train_df.Age > 0) & (Train_df.Pclass == 1)].PassengerId.count())\n",
    "FixAgeTrain('Mr',1)\n",
    "print(Train_df[(Train_df['Title'] == 'Mr') & ~(Train_df.Age > 0) & (Train_df.Pclass == 1)].PassengerId.count())\n",
    "print(Test_df[(Test_df['Title'] == 'Mr') & ~(Test_df.Age > 0) & (Test_df.Pclass == 1)].PassengerId.count())\n",
    "FixAgeTest('Mr',1)\n",
    "print(Test_df[(Test_df['Title'] == 'Mr') & ~(Test_df.Age > 0) & (Test_df.Pclass == 1)].PassengerId.count())\n",
    "\n",
    "print(Train_df[(Train_df['Title'] == 'Mr') & ~(Train_df.Age > 0) & (Train_df.Pclass == 2)].PassengerId.count())\n",
    "FixAgeTrain('Mr',2)\n",
    "print(Train_df[(Train_df['Title'] == 'Mr') & ~(Train_df.Age > 0) & (Train_df.Pclass == 2)].PassengerId.count())\n",
    "print(Test_df[(Test_df['Title'] == 'Mr') & ~(Test_df.Age > 0) & (Test_df.Pclass == 2)].PassengerId.count())\n",
    "FixAgeTest('Mr',2)\n",
    "print(Test_df[(Test_df['Title'] == 'Mr') & ~(Test_df.Age > 0) & (Test_df.Pclass == 2)].PassengerId.count())\n",
    "\n",
    "print(Train_df[(Train_df['Title'] == 'Mr') & ~(Train_df.Age > 0) & (Train_df.Pclass == 3)].PassengerId.count())\n",
    "FixAgeTrain('Mr',3)\n",
    "print(Train_df[(Train_df['Title'] == 'Mr') & ~(Train_df.Age > 0) & (Train_df.Pclass == 3)].PassengerId.count())\n",
    "print(Test_df[(Test_df['Title'] == 'Mr') & ~(Test_df.Age > 0) & (Test_df.Pclass == 3)].PassengerId.count())\n",
    "FixAgeTest('Mr',3)\n",
    "print(Test_df[(Test_df['Title'] == 'Mr') & ~(Test_df.Age > 0) & (Test_df.Pclass == 3)].PassengerId.count())"
   ]
  },
  {
   "cell_type": "markdown",
   "metadata": {},
   "source": [
    "The below distribution plot of Age by Survival rate allows us divide age into 3 broader ordinal categories. <br/>\n",
    " 0: For High Survival rate (Age 0-16) <br/>\n",
    " 1: For Equal/Similar Survival rate (Age 41 and above) <br/>\n",
    " 2: For Low Survival rate (Age 17 - 40)"
   ]
  },
  {
   "cell_type": "code",
   "execution_count": 65,
   "metadata": {
    "scrolled": false
   },
   "outputs": [
    {
     "data": {
      "text/plain": [
       "<matplotlib.axes._subplots.AxesSubplot at 0x22ae3e3bb38>"
      ]
     },
     "execution_count": 65,
     "metadata": {},
     "output_type": "execute_result"
    },
    {
     "data": {
      "image/png": "[encoded data removed]",
      "text/plain": [
       "<Figure size 432x288 with 1 Axes>"
      ]
     },
     "metadata": {
      "needs_background": "light"
     },
     "output_type": "display_data"
    }
   ],
   "source": [
    "sns.distplot(Train_df[Train_df.Survived == 0].Age, color = 'red', bins = 20)\n",
    "sns.distplot(Train_df[Train_df.Survived == 1].Age, color = 'blue', bins = 20)"
   ]
  },
  {
   "cell_type": "code",
   "execution_count": 66,
   "metadata": {},
   "outputs": [],
   "source": [
    "Train_df['AgeGroup'] = Train_df.Age.astype(int).apply(lambda x: 0 if x <= 16\n",
    "                                         else (1 if x > 40\n",
    "                                              else 2))\n",
    "Test_df['AgeGroup'] = Test_df.Age.astype(int).apply(lambda x: 0 if x <= 16\n",
    "                                         else (1 if x > 40\n",
    "                                              else 2))"
   ]
  },
  {
   "cell_type": "markdown",
   "metadata": {},
   "source": [
    "# 1.4 Data Preprocessing"
   ]
  },
  {
   "cell_type": "markdown",
   "metadata": {},
   "source": [
    "First let's create a copy so as to we don't corrupt our analysis and wrangling so far"
   ]
  },
  {
   "cell_type": "code",
   "execution_count": 67,
   "metadata": {},
   "outputs": [],
   "source": [
    "Train_alt = Train_df.copy()\n",
    "Test_alt = Test_df.copy()"
   ]
  },
  {
   "cell_type": "code",
   "execution_count": 68,
   "metadata": {},
   "outputs": [
    {
     "data": {
      "text/plain": [
       "PassengerId      891\n",
       "Survived           2\n",
       "Pclass             3\n",
       "Name             891\n",
       "Sex                2\n",
       "Age               88\n",
       "SibSp              7\n",
       "Parch              7\n",
       "Fare             248\n",
       "Cabin            147\n",
       "Embarked           3\n",
       "BloodRelative      2\n",
       "Title              5\n",
       "Deck               9\n",
       "AgeGroup           3\n",
       "dtype: int64"
      ]
     },
     "execution_count": 68,
     "metadata": {},
     "output_type": "execute_result"
    }
   ],
   "source": [
    "Train_alt.nunique()"
   ]
  },
  {
   "cell_type": "markdown",
   "metadata": {},
   "source": [
    "Lets Binary encode sex column as it is only column with strings as 2 categories"
   ]
  },
  {
   "cell_type": "code",
   "execution_count": 69,
   "metadata": {},
   "outputs": [],
   "source": [
    "Train_alt.Sex = Train_alt.Sex.map({'male': 0, 'female':1})\n",
    "Test_alt.Sex = Test_alt.Sex.map({'male': 0, 'female':1})"
   ]
  },
  {
   "cell_type": "code",
   "execution_count": 70,
   "metadata": {},
   "outputs": [
    {
     "name": "stdout",
     "output_type": "stream",
     "text": [
      "[0 1]\n",
      "[0 1]\n"
     ]
    }
   ],
   "source": [
    "print(Train_alt.Sex.unique())\n",
    "print(Test_alt.Sex.unique())"
   ]
  },
  {
   "cell_type": "markdown",
   "metadata": {},
   "source": [
    "Let's one hot encode all nominal categorical variables & check if the columns are correctly converted"
   ]
  },
  {
   "cell_type": "code",
   "execution_count": 71,
   "metadata": {},
   "outputs": [],
   "source": [
    "Train_alt = pd.concat([Train_alt, pd.get_dummies(Train_alt['Embarked'], drop_first=True)], axis=1);\n",
    "Train_alt = pd.concat([Train_alt, pd.get_dummies(Train_alt['Title'], drop_first=True)], axis=1);\n",
    "\n",
    "Test_alt = pd.concat([Test_alt, pd.get_dummies(Test_alt['Embarked'], drop_first=True)], axis=1);\n",
    "Test_alt = pd.concat([Test_alt, pd.get_dummies(Test_alt['Title'], drop_first=True)], axis=1);"
   ]
  },
  {
   "cell_type": "code",
   "execution_count": 72,
   "metadata": {},
   "outputs": [
    {
     "name": "stdout",
     "output_type": "stream",
     "text": [
      "Index(['PassengerId', 'Survived', 'Pclass', 'Name', 'Sex', 'Age', 'SibSp',\n",
      "       'Parch', 'Fare', 'Cabin', 'Embarked', 'BloodRelative', 'Title', 'Deck',\n",
      "       'AgeGroup', 'Q', 'S', 'Miss', 'Mr', 'Mrs', 'Other'],\n",
      "      dtype='object')\n",
      "Index(['PassengerId', 'Pclass', 'Name', 'Sex', 'Age', 'SibSp', 'Parch', 'Fare',\n",
      "       'Cabin', 'Embarked', 'BloodRelative', 'Title', 'Deck', 'AgeGroup', 'Q',\n",
      "       'S', 'Miss', 'Mr', 'Mrs', 'Other'],\n",
      "      dtype='object')\n"
     ]
    }
   ],
   "source": [
    "print(Train_alt.columns)\n",
    "print(Test_alt.columns)"
   ]
  },
  {
   "cell_type": "markdown",
   "metadata": {},
   "source": [
    "Lets drop columns, those that will not be advantageous to our model based on prior analysis & those which have been transformed to either one or multiple columns"
   ]
  },
  {
   "cell_type": "code",
   "execution_count": 73,
   "metadata": {},
   "outputs": [],
   "source": [
    "Train_alt = Train_alt.drop(['PassengerId', 'Name', 'Age', 'SibSp', 'Parch', 'Fare', 'Cabin', 'Embarked', 'Title'], axis = 1)\n",
    "Test_alt = Test_alt.drop(['PassengerId', 'Name', 'Age', 'SibSp', 'Parch', 'Fare', 'Cabin', 'Embarked', 'Title'], axis = 1)"
   ]
  },
  {
   "cell_type": "code",
   "execution_count": 74,
   "metadata": {},
   "outputs": [
    {
     "name": "stdout",
     "output_type": "stream",
     "text": [
      "Index(['Survived', 'Pclass', 'Sex', 'BloodRelative', 'Deck', 'AgeGroup', 'Q',\n",
      "       'S', 'Miss', 'Mr', 'Mrs', 'Other'],\n",
      "      dtype='object')\n",
      "Index(['Pclass', 'Sex', 'BloodRelative', 'Deck', 'AgeGroup', 'Q', 'S', 'Miss',\n",
      "       'Mr', 'Mrs', 'Other'],\n",
      "      dtype='object')\n",
      "(891, 12)\n",
      "(418, 11)\n"
     ]
    }
   ],
   "source": [
    "print(Train_alt.columns)\n",
    "print(Test_alt.columns)\n",
    "print(Train_alt.shape)\n",
    "print(Test_alt.shape)"
   ]
  },
  {
   "cell_type": "markdown",
   "metadata": {},
   "source": [
    "# 2. Model Tuning"
   ]
  },
  {
   "cell_type": "markdown",
   "metadata": {},
   "source": [
    "Get values minus the label & store it in a variable and store labels in a separate variable. Check for the shapes to see if they've equal number of rows."
   ]
  },
  {
   "cell_type": "code",
   "execution_count": 75,
   "metadata": {
    "scrolled": true
   },
   "outputs": [
    {
     "name": "stdout",
     "output_type": "stream",
     "text": [
      "(891, 11)\n",
      "(891,)\n",
      "(891, 11)\n",
      "(891,)\n"
     ]
    }
   ],
   "source": [
    "X = Train_alt.iloc[:,1:]\n",
    "y = Train_alt.iloc[:,0]\n",
    "print(X.shape)\n",
    "print(y.shape)\n",
    "print(X.shape)\n",
    "print(y.shape)"
   ]
  },
  {
   "cell_type": "markdown",
   "metadata": {},
   "source": [
    "# 2.1 Cross Validation"
   ]
  },
  {
   "cell_type": "markdown",
   "metadata": {},
   "source": [
    "In this section we will pick up different classifiers and perform cross-validation analysis on various version of these classifiers to pick the best version of the classifier"
   ]
  },
  {
   "cell_type": "markdown",
   "metadata": {},
   "source": [
    "# 2.1.1 Decision Trees"
   ]
  },
  {
   "cell_type": "markdown",
   "metadata": {},
   "source": [
    "We create multiple decision trees with different nodes and check which variation of the decision tree fits our data best."
   ]
  },
  {
   "cell_type": "code",
   "execution_count": 76,
   "metadata": {},
   "outputs": [],
   "source": [
    "dt2 = DecisionTreeClassifier(max_depth=2)\n",
    "dt4 = DecisionTreeClassifier(max_depth=4)\n",
    "dt6 = DecisionTreeClassifier(max_depth=6)\n",
    "dt8 = DecisionTreeClassifier(max_depth=8)\n",
    "dt10 = DecisionTreeClassifier(max_depth=10)\n",
    "dt12 = DecisionTreeClassifier(max_depth=12)\n",
    "dt15 = DecisionTreeClassifier(max_depth=15)\n",
    "dt20 = DecisionTreeClassifier(max_depth=20)\n",
    "dt40 = DecisionTreeClassifier(max_depth=40)"
   ]
  },
  {
   "cell_type": "code",
   "execution_count": 77,
   "metadata": {},
   "outputs": [],
   "source": [
    "dt2_score = cross_val_score(dt2, X, y, cv=10, scoring='accuracy')\n",
    "dt4_score = cross_val_score(dt4, X, y, cv=10, scoring='accuracy')\n",
    "dt6_score = cross_val_score(dt6, X, y, cv=10, scoring='accuracy')\n",
    "dt8_score = cross_val_score(dt8, X, y, cv=10, scoring='accuracy')\n",
    "dt10_score = cross_val_score(dt10, X, y, cv=10, scoring='accuracy')\n",
    "dt12_score = cross_val_score(dt12, X, y, cv=10, scoring='accuracy')\n",
    "dt15_score = cross_val_score(dt15, X, y, cv=10, scoring='accuracy')\n",
    "dt20_score = cross_val_score(dt20, X, y, cv=10, scoring='accuracy')\n",
    "dt40_score = cross_val_score(dt40, X, y, cv=10, scoring='accuracy')"
   ]
  },
  {
   "cell_type": "code",
   "execution_count": 78,
   "metadata": {
    "scrolled": false
   },
   "outputs": [
    {
     "name": "stdout",
     "output_type": "stream",
     "text": [
      "   Depth     Score\n",
      "0      2  0.789109\n",
      "1      4  0.798048\n",
      "2      6  0.809297\n",
      "3      8  0.804802\n",
      "4     10  0.804777\n",
      "5     12  0.804764\n",
      "6     15  0.801380\n",
      "7     20  0.802504\n",
      "8     40  0.802504\n"
     ]
    }
   ],
   "source": [
    "dt_accuracy = { 'Depth': [2,4,6,8,10,12,15,20,40],\n",
    "    'Score': [dt2_score.mean(),dt4_score.mean(),dt6_score.mean(),dt8_score.mean(), dt10_score.mean(),\n",
    "                          dt12_score.mean(), dt15_score.mean(),dt20_score.mean(), dt40_score.mean()]\n",
    "                   }\n",
    "dt_accuracy_df = pd.DataFrame.from_dict(dt_accuracy)\n",
    "print(dt_accuracy_df)"
   ]
  },
  {
   "cell_type": "markdown",
   "metadata": {},
   "source": [
    "Decision tree with 6 nodes had the best performance let's find out the feature importance this will further help us tone down the features"
   ]
  },
  {
   "cell_type": "code",
   "execution_count": 79,
   "metadata": {
    "scrolled": true
   },
   "outputs": [
    {
     "data": {
      "text/plain": [
       "DecisionTreeClassifier(class_weight=None, criterion='gini', max_depth=6,\n",
       "                       max_features=None, max_leaf_nodes=None,\n",
       "                       min_impurity_decrease=0.0, min_impurity_split=None,\n",
       "                       min_samples_leaf=1, min_samples_split=2,\n",
       "                       min_weight_fraction_leaf=0.0, presort=False,\n",
       "                       random_state=None, splitter='best')"
      ]
     },
     "execution_count": 79,
     "metadata": {},
     "output_type": "execute_result"
    }
   ],
   "source": [
    "dt6.fit(X,y)"
   ]
  },
  {
   "cell_type": "code",
   "execution_count": 80,
   "metadata": {},
   "outputs": [
    {
     "name": "stdout",
     "output_type": "stream",
     "text": [
      "{'Pclass': 0.13481845088310304, 'Sex': 0.03288033100049947, 'BloodRelative': 0.015465032151328524, 'Deck': 0.09465708246739728, 'AgeGroup': 0.03309392624925599, 'Q': 0.0189482193430236, 'S': 0.04549052366538738, 'Miss': 0.0022848576295585402, 'Mr': 0.5663752484292829, 'Mrs': 0.003013387419837071, 'Other': 0.05297294076132614}\n"
     ]
    }
   ],
   "source": [
    "print(dict(zip(X.columns, dt6.feature_importances_)))"
   ]
  },
  {
   "cell_type": "markdown",
   "metadata": {},
   "source": [
    "Clearly separate tilte columns are warping the sex column, It'd be better to drop if we drop  either the titles or sex and age group as both of these seem to capture the same combined info. After dropping of Title lets repeat the same analysis again. Also we'd like to drop Blood Relative as it's not aiding much and we also remove Deck as we believe from our analysis that Deck might be Skewing our Model predictions."
   ]
  },
  {
   "cell_type": "code",
   "execution_count": 81,
   "metadata": {},
   "outputs": [
    {
     "name": "stdout",
     "output_type": "stream",
     "text": [
      "(891, 11)\n",
      "(418, 11)\n",
      "(891, 7)\n",
      "(418, 7)\n"
     ]
    }
   ],
   "source": [
    "X = Train_alt.iloc[:,1:]\n",
    "X_test = Test_alt\n",
    "print(X.shape)\n",
    "print(X_test.shape)\n",
    "X = X.drop(['BloodRelative', 'Sex', 'AgeGroup', 'Deck'], axis = 1)\n",
    "X_test = Test_alt.drop(['BloodRelative', 'Sex', 'AgeGroup', 'Deck'], axis = 1)\n",
    "print(X.shape)\n",
    "print(X_test.shape)"
   ]
  },
  {
   "cell_type": "code",
   "execution_count": 82,
   "metadata": {},
   "outputs": [],
   "source": [
    "dt2_score = cross_val_score(dt2, X, y, cv=10, scoring='accuracy')\n",
    "dt4_score = cross_val_score(dt4, X, y, cv=10, scoring='accuracy')\n",
    "dt6_score = cross_val_score(dt6, X, y, cv=10, scoring='accuracy')\n",
    "dt8_score = cross_val_score(dt8, X, y, cv=10, scoring='accuracy')\n",
    "dt10_score = cross_val_score(dt10, X, y, cv=10, scoring='accuracy')\n",
    "dt12_score = cross_val_score(dt12, X, y, cv=10, scoring='accuracy')\n",
    "dt15_score = cross_val_score(dt15, X, y, cv=10, scoring='accuracy')\n",
    "dt20_score = cross_val_score(dt20, X, y, cv=10, scoring='accuracy')\n",
    "dt40_score = cross_val_score(dt40, X, y, cv=10, scoring='accuracy')"
   ]
  },
  {
   "cell_type": "markdown",
   "metadata": {},
   "source": [
    "Evidently, Tuning of feature set has eveidently improved the performance of the model. For now we continue with the toned down feature set for further analysis "
   ]
  },
  {
   "cell_type": "code",
   "execution_count": 83,
   "metadata": {
    "scrolled": true
   },
   "outputs": [
    {
     "name": "stdout",
     "output_type": "stream",
     "text": [
      "   Depth     Score\n",
      "0      2  0.789109\n",
      "1      4  0.819309\n",
      "2      6  0.826089\n",
      "3      8  0.826089\n",
      "4     10  0.826089\n",
      "5     12  0.826089\n",
      "6     15  0.826089\n",
      "7     20  0.826089\n",
      "8     40  0.826089\n"
     ]
    }
   ],
   "source": [
    "dt_accuracy = { 'Depth': [2,4,6,8,10,12,15,20,40],\n",
    "    'Score': [dt2_score.mean(),dt4_score.mean(),dt6_score.mean(),dt8_score.mean(), dt10_score.mean(),\n",
    "                          dt12_score.mean(), dt15_score.mean(),dt20_score.mean(), dt40_score.mean()]\n",
    "                   }\n",
    "dt_accuracy_df = pd.DataFrame.from_dict(dt_accuracy)\n",
    "print(dt_accuracy_df)"
   ]
  },
  {
   "cell_type": "markdown",
   "metadata": {},
   "source": [
    "# 2.1.2 Naive Bayes - Gaussian"
   ]
  },
  {
   "cell_type": "markdown",
   "metadata": {},
   "source": [
    "Although the Naive Bayes classifier accounts well for missing scenarios it's unlikely we've any missing scenarios here. From results below Naive Bayes performs poorly incomparison to Decisin trees in general and there's also  a slight suggestion that around 20% of data in d-dimensional space are very close to each other causing the wrong asssignment of probabailities"
   ]
  },
  {
   "cell_type": "code",
   "execution_count": 84,
   "metadata": {
    "scrolled": true
   },
   "outputs": [
    {
     "data": {
      "text/plain": [
       "0.7788576779026217"
      ]
     },
     "execution_count": 84,
     "metadata": {},
     "output_type": "execute_result"
    }
   ],
   "source": [
    "nb = GaussianNB()\n",
    "nb_scores_1 = cross_val_score(nb, X, y, cv=10, scoring='accuracy')\n",
    "nb_scores_1.mean()"
   ]
  },
  {
   "cell_type": "markdown",
   "metadata": {},
   "source": [
    "# 2.1.3 Support Vector Machine (SVM) - Linear"
   ]
  },
  {
   "cell_type": "markdown",
   "metadata": {},
   "source": [
    "SVM linear performs marginally better than Naive Bayes and again alludes to the notion that around 20% data from both the classes are overlapping, hence the reduction in accuracy"
   ]
  },
  {
   "cell_type": "code",
   "execution_count": 85,
   "metadata": {},
   "outputs": [
    {
     "data": {
      "text/plain": [
       "0.782203495630462"
      ]
     },
     "execution_count": 85,
     "metadata": {},
     "output_type": "execute_result"
    }
   ],
   "source": [
    "svm_linear = SVC(C=1.5, kernel='linear')\n",
    "svm_scores_1 = cross_val_score(svm_linear, X, y,cv=10, scoring='accuracy')\n",
    "svm_scores_1.mean()"
   ]
  },
  {
   "cell_type": "markdown",
   "metadata": {},
   "source": [
    "# 2.1.4 Support Vector Machine (SVM) - Radial Basis Function(RBF)"
   ]
  },
  {
   "cell_type": "markdown",
   "metadata": {},
   "source": [
    "SVM RBF matches it's performance with decision tree but one advantage of decision trees is that it is simple and easy to explain where as SVMs in general are blackboxes which cannot be explained."
   ]
  },
  {
   "cell_type": "code",
   "execution_count": 86,
   "metadata": {},
   "outputs": [
    {
     "name": "stdout",
     "output_type": "stream",
     "text": [
      "0.8260886959482464\n"
     ]
    }
   ],
   "source": [
    "svm_rbf_1 = SVC(C = .50, kernel='rbf', gamma=1) \n",
    "svm_rbf_scores_1 = cross_val_score(svm_rbf_1, X, y, cv=10, scoring='accuracy')\n",
    "print(svm_rbf_scores_1.mean())"
   ]
  },
  {
   "cell_type": "markdown",
   "metadata": {},
   "source": [
    "# 2.1.5 Support Vector Machine (SVM) - Polynomial"
   ]
  },
  {
   "cell_type": "markdown",
   "metadata": {},
   "source": [
    "SVM Polynomial of degree 3 matches it's performance with decision tree but again is very tedious and difficult to explain. Since there's no marked improvement most likely we will not consider this classifier"
   ]
  },
  {
   "cell_type": "code",
   "execution_count": 99,
   "metadata": {},
   "outputs": [],
   "source": [
    "svm_poly = SVC(C=10, kernel='poly',degree=1, gamma = 'auto')\n",
    "svm_poly_2 = SVC(C=10, kernel='poly',degree=2, gamma = 'auto')\n",
    "svm_poly_3 = SVC(C=20, kernel='poly',degree=3, gamma = 'auto')\n",
    "svm_poly_scores = cross_val_score(svm_poly, X, y, cv=10, scoring='accuracy')\n",
    "svm_poly_scores_2 = cross_val_score(svm_poly_2, X, y, cv=10, scoring='accuracy')\n",
    "svm_poly_scores_3 = cross_val_score(svm_poly_3, X, y, cv=10, scoring='accuracy')"
   ]
  },
  {
   "cell_type": "code",
   "execution_count": 88,
   "metadata": {
    "scrolled": false
   },
   "outputs": [
    {
     "name": "stdout",
     "output_type": "stream",
     "text": [
      "   Order     Score\n",
      "0      1  0.782203\n",
      "1      2  0.787872\n",
      "2      3  0.821657\n"
     ]
    }
   ],
   "source": [
    "svm_poly_accuracy_df = pd.DataFrame.from_dict({ 'Order': [1,2,3],\n",
    "    'Score': [svm_poly_scores.mean(),svm_poly_scores_2.mean(),svm_poly_scores_3.mean()]})\n",
    "print(svm_poly_accuracy_df)"
   ]
  },
  {
   "cell_type": "markdown",
   "metadata": {},
   "source": [
    "# 2.1.6 K-Nearest Neighbour (KNN)"
   ]
  },
  {
   "cell_type": "markdown",
   "metadata": {},
   "source": [
    "Although KNN does better than Naive Bayes and SVM Linear but still fares poorly incomaparison to Decision Tree and SVM RBF."
   ]
  },
  {
   "cell_type": "code",
   "execution_count": 89,
   "metadata": {},
   "outputs": [
    {
     "name": "stdout",
     "output_type": "stream",
     "text": [
      "   Neighbours     Score\n",
      "0           1  0.757774\n",
      "1           5  0.811520\n",
      "2          10  0.814865\n",
      "3          20  0.813740\n"
     ]
    }
   ],
   "source": [
    "knn1 = KNeighborsClassifier(n_neighbors=1)\n",
    "knn5 = KNeighborsClassifier(n_neighbors=5)\n",
    "knn10 = KNeighborsClassifier(n_neighbors=10)\n",
    "knn20 = KNeighborsClassifier(n_neighbors=20)\n",
    "knn1_score = cross_val_score(knn1, X, y, cv=10, scoring='accuracy')\n",
    "knn5_score = cross_val_score(knn5, X, y, cv=10, scoring='accuracy')\n",
    "knn10_score = cross_val_score(knn10, X, y, cv=10, scoring='accuracy')\n",
    "knn20_score = cross_val_score(knn20, X, y, cv=10, scoring='accuracy')\n",
    "knn_accuracy_df = pd.DataFrame.from_dict({ 'Neighbours': [1,5,10,20],\n",
    "    'Score': [knn1_score.mean(),knn5_score.mean(),knn10_score.mean(),knn20_score.mean()]})\n",
    "print(knn_accuracy_df)"
   ]
  },
  {
   "cell_type": "markdown",
   "metadata": {},
   "source": [
    "# 2.1.7 Logistic Regression"
   ]
  },
  {
   "cell_type": "markdown",
   "metadata": {},
   "source": [
    "The traditional logistic regression classifier also fares poorly in comparison to the Decision Tree"
   ]
  },
  {
   "cell_type": "code",
   "execution_count": 90,
   "metadata": {
    "scrolled": true
   },
   "outputs": [
    {
     "name": "stdout",
     "output_type": "stream",
     "text": [
      "0.7923544433094996\n"
     ]
    }
   ],
   "source": [
    "logreg_score = cross_val_score(LogisticRegression(solver='lbfgs'), X, y, cv=10, scoring='accuracy')\n",
    "print(logreg_score.mean())"
   ]
  },
  {
   "cell_type": "markdown",
   "metadata": {},
   "source": [
    "# 2.1.8 Random Forest"
   ]
  },
  {
   "cell_type": "markdown",
   "metadata": {},
   "source": [
    "Random forest also manages to match the accuracy of Decision Tree and SVM but on a more general is more likely to do better than decision tree as we know decision tree algorithm are greedy algorithms and one misselection may lead to very dastardly consequences, hence we prefer Random Forest over Decision Tree, but we'd like to see if we can improve Decision tree by boosting it."
   ]
  },
  {
   "cell_type": "code",
   "execution_count": 91,
   "metadata": {},
   "outputs": [
    {
     "name": "stdout",
     "output_type": "stream",
     "text": [
      "Random Forest Accuracy: 0.81 (+/- 0.03) #estimators: 1\n",
      "Random Forest Accuracy: 0.82 (+/- 0.04) #estimators: 2\n",
      "Random Forest Accuracy: 0.82 (+/- 0.04) #estimators: 3\n",
      "Random Forest Accuracy: 0.82 (+/- 0.03) #estimators: 4\n",
      "Random Forest Accuracy: 0.82 (+/- 0.04) #estimators: 5\n",
      "Random Forest Accuracy: 0.82 (+/- 0.03) #estimators: 10\n",
      "Random Forest Accuracy: 0.82 (+/- 0.04) #estimators: 20\n",
      "Random Forest Accuracy: 0.82 (+/- 0.04) #estimators: 40\n",
      "Random Forest Accuracy: 0.82 (+/- 0.03) #estimators: 100\n"
     ]
    }
   ],
   "source": [
    "n_est_list = [1,2,3,4,5,10,20,40,100]\n",
    "for n_est in n_est_list:\n",
    "    random_forest = RandomForestClassifier(n_estimators=n_est)\n",
    "    scores = cross_val_score(random_forest, X, y, cv=10, scoring='accuracy')\n",
    "    print(\"Random Forest Accuracy: %.2f (+/- %.2f) #estimators: %d\" % (scores.mean(), scores.std(), n_est))"
   ]
  },
  {
   "cell_type": "markdown",
   "metadata": {},
   "source": [
    "# 2.1.9 Boosting "
   ]
  },
  {
   "cell_type": "markdown",
   "metadata": {},
   "source": [
    "Boosting slightly increases the overall accuracy but the risk of wrongly assigning large weights to abberations can damage the model very badly. Since risk is not so rewarding, we refrain from using the boosting classifier."
   ]
  },
  {
   "cell_type": "code",
   "execution_count": 92,
   "metadata": {
    "scrolled": false
   },
   "outputs": [
    {
     "name": "stdout",
     "output_type": "stream",
     "text": [
      "Boosting Accuracy: 0.83 (+/- 0.03) #estimators: 1\n",
      "Boosting Accuracy: 0.82 (+/- 0.04) #estimators: 2\n",
      "Boosting Accuracy: 0.82 (+/- 0.04) #estimators: 3\n",
      "Boosting Accuracy: 0.82 (+/- 0.03) #estimators: 4\n",
      "Boosting Accuracy: 0.82 (+/- 0.03) #estimators: 5\n",
      "Boosting Accuracy: 0.82 (+/- 0.03) #estimators: 10\n",
      "Boosting Accuracy: 0.83 (+/- 0.03) #estimators: 15\n",
      "Boosting Accuracy: 0.83 (+/- 0.03) #estimators: 40\n"
     ]
    }
   ],
   "source": [
    "dt = DecisionTreeClassifier(max_depth=6)\n",
    "n_est_list = [1,2,3,4,5,10,15,40]\n",
    "for n_est in n_est_list:\n",
    "    boosting = AdaBoostClassifier(base_estimator=dt, n_estimators=n_est)\n",
    "    scores = cross_val_score(boosting, X, y, cv=10, scoring='accuracy')\n",
    "    print(\"Boosting Accuracy: %.2f (+/- %.2f) #estimators: %d\" % (scores.mean(), scores.std(), n_est))"
   ]
  },
  {
   "cell_type": "markdown",
   "metadata": {},
   "source": [
    "# 2.2 Model Selection"
   ]
  },
  {
   "cell_type": "markdown",
   "metadata": {},
   "source": [
    "Based on the above analysis it's clear that Decision Tree (Standalone & with boosting), SVM RBF, SVM Polynomial and Random Forest perform best on our dataset. We reject SVM RBF and SVM Polynomial because they don't offer any significant improvement \n",
    "considering the complexity each involves inaddition to lack of decision information. Further we reject Boosting, because although it does well in the cross-validation but when we fit the data there's a chance that it may wrongly assign big weights to very small anamolous data. Between Decision Tree and Random Forest we choose Random Forest since it aptly counters the greedy nature of decision tree classifier. Thus we decide to fit Random Forest Classfier for our data with 10 estimators (as this had the best accuracy among all estimators)  \n",
    "<table>\n",
    "    <tr>\n",
    "        <th> Classifier</th>\n",
    "        <th> Cross Vaildation Accuracy Score</th>\n",
    "    </tr>\n",
    "    <tr> <td>Decision Tree</td> <td bgcolor ='yellow'>82.6%</td></tr>\n",
    "    <tr> <td>Naive Bayes</td> <td >77.9%</td></tr>\n",
    "    <tr> <td>SVM Linear</td> <td>78.1%</td></tr>\n",
    "    <tr> <td>SVM RBF</td> <td bgcolor ='yellow'>82.6%</td></tr>\n",
    "    <tr> <td>SVM Polynomial</td> <td bgcolor ='yellow'>82.1%</td></tr>\n",
    "    <tr> <td>KNN</td> <td>81.4%</td></tr>\n",
    "    <tr> <td>Logistic Regression</td> <td>79.2%</td></tr>\n",
    "    <tr> <td>Random Forest</td> <td bgcolor ='green'>83%</td></tr>\n",
    "    <tr> <td>Boosting</td> <td bgcolor ='yellow'>82%</td></tr>\n",
    "</table>"
   ]
  },
  {
   "cell_type": "markdown",
   "metadata": {},
   "source": [
    "# 2.3 Final Model"
   ]
  },
  {
   "cell_type": "markdown",
   "metadata": {},
   "source": [
    "We fit the final model by fitting the data to the Random Forest Classifier with 10 Estimators"
   ]
  },
  {
   "cell_type": "code",
   "execution_count": 93,
   "metadata": {
    "scrolled": true
   },
   "outputs": [
    {
     "data": {
      "text/plain": [
       "RandomForestClassifier(bootstrap=True, class_weight=None, criterion='gini',\n",
       "                       max_depth=None, max_features='auto', max_leaf_nodes=None,\n",
       "                       min_impurity_decrease=0.0, min_impurity_split=None,\n",
       "                       min_samples_leaf=1, min_samples_split=2,\n",
       "                       min_weight_fraction_leaf=0.0, n_estimators=100,\n",
       "                       n_jobs=None, oob_score=False, random_state=None,\n",
       "                       verbose=0, warm_start=False)"
      ]
     },
     "execution_count": 93,
     "metadata": {},
     "output_type": "execute_result"
    }
   ],
   "source": [
    "\n",
    "Random_Forest = RandomForestClassifier(n_estimators=100)\n",
    "Random_Forest.fit(X, y)"
   ]
  },
  {
   "cell_type": "markdown",
   "metadata": {},
   "source": [
    "Below are the features which aids the model most in it's decision making, as expected the effect of 'Mr' has been neutralized by multiple random decision trees"
   ]
  },
  {
   "cell_type": "code",
   "execution_count": 94,
   "metadata": {
    "scrolled": false
   },
   "outputs": [
    {
     "name": "stdout",
     "output_type": "stream",
     "text": [
      "{'Pclass': 0.24406723875009123, 'Q': 0.02829974606130125, 'S': 0.048920139263427635, 'Miss': 0.1375632523831914, 'Mr': 0.38890877019503245, 'Mrs': 0.12191918586067627, 'Other': 0.03032166748627991}\n"
     ]
    }
   ],
   "source": [
    "print(dict(zip(X.columns, Random_Forest.feature_importances_)))"
   ]
  },
  {
   "cell_type": "markdown",
   "metadata": {},
   "source": [
    "# 2.4 Prediction"
   ]
  },
  {
   "cell_type": "code",
   "execution_count": 95,
   "metadata": {},
   "outputs": [],
   "source": [
    "y_pred = Random_Forest.predict(X_test)"
   ]
  },
  {
   "cell_type": "markdown",
   "metadata": {},
   "source": [
    "# 2.5 Report Predicted Values to Local"
   ]
  },
  {
   "cell_type": "code",
   "execution_count": 96,
   "metadata": {},
   "outputs": [],
   "source": [
    "Test_df_out = Test_df.copy()\n",
    "Test_df_out = Test_df_out.drop(['Fare', 'Cabin', 'Sex', 'Embarked', 'Name', 'Parch', 'SibSp', 'Age', 'Pclass',\n",
    "                                         'BloodRelative', 'Title', 'Deck', 'AgeGroup'], axis = 1)\n",
    "Test_df_out['Survived'] = y_pred"
   ]
  },
  {
   "cell_type": "code",
   "execution_count": 97,
   "metadata": {},
   "outputs": [
    {
     "name": "stdout",
     "output_type": "stream",
     "text": [
      "Index(['PassengerId', 'Survived'], dtype='object')\n"
     ]
    },
    {
     "data": {
      "text/plain": [
       "(418, 2)"
      ]
     },
     "execution_count": 97,
     "metadata": {},
     "output_type": "execute_result"
    }
   ],
   "source": [
    "print(Test_df_out.columns)\n",
    "Test_df_out.shape"
   ]
  },
  {
   "cell_type": "code",
   "execution_count": 98,
   "metadata": {},
   "outputs": [],
   "source": [
    "Test_df_out.to_csv(\"C:/Users/nifaullah/Downloads/msba/WinBreak/Titanic/TitanicOut2.csv\", index = False)"
   ]
  },
  {
   "cell_type": "markdown",
   "metadata": {},
   "source": [
    "# 3. Conclusion\n",
    "Overall 83% cross validation accuracy is a good figure if not great. If we were to apply more sophisticated deep learning techniques such as Artificial Neural Network or used an ensemble of classifiers we might have seen an improvement in the accuracy, but currently we don't have any evidence to support this claim. We intend to test out these and many other classifiers which were left out, in addition to some hyperparameter tuning, in the next version of our analyssis to see if we can improve the accuracy."
   ]
  }
 ],
 "metadata": {
  "kernelspec": {
   "display_name": "Python 3",
   "language": "python",
   "name": "python3"
  },
  "language_info": {
   "codemirror_mode": {
    "name": "ipython",
    "version": 3
   },
   "file_extension": ".py",
   "mimetype": "text/x-python",
   "name": "python",
   "nbconvert_exporter": "python",
   "pygments_lexer": "ipython3",
   "version": "3.7.3"
  }
 },
 "nbformat": 4,
 "nbformat_minor": 2
}
